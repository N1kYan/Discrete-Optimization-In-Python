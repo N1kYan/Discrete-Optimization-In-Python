{
 "cells": [
  {
   "cell_type": "markdown",
   "metadata": {},
   "source": [
    "## The Fourier Motzkin Elimination Algorithm\n",
    "This algorithm computes a projection of a polyhedron by eliminating a given axis.  \n",
    "The result is a polyhedron given by $P(D,d) = {Proj}_k(P(A,b))=\\{x\\in K^n:Dx\\leq d, x_k=0\\}$.  \n",
    "It can be run on three test-files containing polyhedrons of different sizes."
   ]
  },
  {
   "cell_type": "code",
   "execution_count": 20,
   "metadata": {},
   "outputs": [],
   "source": [
    "# Imports etc.\n",
    "import numpy as np"
   ]
  },
  {
   "cell_type": "code",
   "execution_count": 21,
   "metadata": {},
   "outputs": [],
   "source": [
    "# Parameters\n",
    "input_path = \"test1.txt\"\n",
    "elimination_index = 1\n",
    "output_path = \"test1_results.txt\""
   ]
  },
  {
   "cell_type": "code",
   "execution_count": 22,
   "metadata": {},
   "outputs": [
    {
     "name": "stdout",
     "output_type": "stream",
     "text": [
      "Read-in polyhedron.\n",
      "Shape of b is (10, 1)\n",
      "Shape of A is (10, 5)\n"
     ]
    }
   ],
   "source": [
    "# Read-In polyhedron data from .txt file\n",
    "with open(input_path, 'r') as file:\n",
    "    P = np.matrix([[int(num) for num in line.split(' ')] for line in file])\n",
    "b = P[:, 0]\n",
    "A = P[:, 1:]\n",
    "print(\"Read-in polyhedron.\")\n",
    "print(f\"Shape of b is {b.shape}\")\n",
    "print(f\"Shape of A is {A.shape}\")"
   ]
  },
  {
   "cell_type": "code",
   "execution_count": 25,
   "metadata": {},
   "outputs": [
    {
     "name": "stdout",
     "output_type": "stream",
     "text": [
      "[[ 1]\n",
      " [ 0]\n",
      " [ 0]\n",
      " [ 0]\n",
      " [ 0]\n",
      " [-1]\n",
      " [ 0]\n",
      " [ 0]\n",
      " [ 0]\n",
      " [ 0]]\n",
      "[1 2 3 4 6 7 8 9]\n"
     ]
    }
   ],
   "source": [
    "# Main algorithm\n",
    "def fme(k):\n",
    "    k = k - 1\n",
    "    \"\"\" Fourier Motzkin Elemination\n",
    "    \n",
    "    :param: k: The index (axis) to be eliminated.\n",
    "    :return: Projected polyhedron\n",
    "    \"\"\"\n",
    "    # We first partition our set of indices of A\n",
    "    C_k_0 = np.where(A[:,k] == 0)[0]\n",
    "    C_k_minus = np.where(A[:,k] < 0)[0]\n",
    "    C_k_plus = np.where(A[:,k] > 0)[0]\n",
    "    # Get R and Bijection\n",
    "    R = ...\n",
    "    # Iterate"
   ]
  },
  {
   "cell_type": "code",
   "execution_count": null,
   "metadata": {},
   "outputs": [],
   "source": []
  }
 ],
 "metadata": {
  "kernelspec": {
   "display_name": "Python 3",
   "language": "python",
   "name": "python3"
  },
  "language_info": {
   "codemirror_mode": {
    "name": "ipython",
    "version": 3
   },
   "file_extension": ".py",
   "mimetype": "text/x-python",
   "name": "python",
   "nbconvert_exporter": "python",
   "pygments_lexer": "ipython3",
   "version": "3.7.3"
  }
 },
 "nbformat": 4,
 "nbformat_minor": 2
}
