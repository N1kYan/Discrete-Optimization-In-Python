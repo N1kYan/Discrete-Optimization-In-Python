{
 "cells": [
  {
   "cell_type": "markdown",
   "metadata": {},
   "source": [
    "## The Fourier Motzkin Elimination Algorithm\n",
    "This algorithm computes a projection of a polyhedron by eliminating a given axis.  \n",
    "The result is a polyhedron given by $P(D,d) = {Proj}_k(P(A,b))=\\{x\\in K^n:Dx\\leq d, x_k=0\\}$.  \n",
    "It can be run on three test-files containing polyhedrons of different sizes."
   ]
  },
  {
   "cell_type": "code",
   "execution_count": 211,
   "metadata": {},
   "outputs": [],
   "source": [
    "# Imports etc.\n",
    "import numpy as np\n",
    "from itertools import product"
   ]
  },
  {
   "cell_type": "code",
   "execution_count": 212,
   "metadata": {},
   "outputs": [],
   "source": [
    "# Parameters\n",
    "input_file = \"test3\"\n",
    "elimination_index = 1"
   ]
  },
  {
   "cell_type": "code",
   "execution_count": 213,
   "metadata": {},
   "outputs": [
    {
     "name": "stdout",
     "output_type": "stream",
     "text": [
      "Read-in polyhedron.\n",
      "Shape of A is (5, 7)\n",
      "Shape of b is (5, 1)\n"
     ]
    }
   ],
   "source": [
    "# Read-In polyhedron data from .txt file\n",
    "with open(input_file + \".txt\", 'r') as file:\n",
    "    P = np.matrix([[int(num) for num in line.split(' ')] for line in file])\n",
    "b = P[:, 0]\n",
    "A = P[:, 1:]\n",
    "print(\"Read-in polyhedron.\")\n",
    "print(f\"Shape of A is {A.shape}\")\n",
    "print(f\"Shape of b is {b.shape}\")"
   ]
  },
  {
   "cell_type": "code",
   "execution_count": 214,
   "metadata": {},
   "outputs": [],
   "source": [
    "# Main algorithm\n",
    "def fme(k):\n",
    "    k = k - 1\n",
    "    \"\"\" Fourier Motzkin Elemination\n",
    "    \n",
    "    :param: k: The index (axis) to be eliminated.\n",
    "    :return: Projected polyhedron\n",
    "    \"\"\"\n",
    "    # We first partition our set of indices of A\n",
    "    C_k_0 = np.where(A[:,k] == 0)[0]\n",
    "    C_k_minus = np.where(A[:,k] < 0)[0]\n",
    "    C_k_plus = np.where(A[:,k] > 0)[0]\n",
    "    \n",
    "    D = np.zeros(shape=(A.shape[0], A.shape[1]))\n",
    "    d = np.zeros(shape=(b.shape[0]))\n",
    "    # Iterate\n",
    "    i = 0\n",
    "    for ind in C_k_0:\n",
    "        D[i,:] = A[i,:]\n",
    "        d[i] = b[i]\n",
    "        i += 1\n",
    "    for (s, t) in list(product(C_k_minus, C_k_plus)): \n",
    "        D[i, :] = A[t,k]*A[s,:] - A[s,k]*A[t,:]\n",
    "        d[i] = A[t,k]*b[s] - A[s,k]*b[t]\n",
    "        i += 1\n",
    "        \n",
    "    # Return projected polyhedron \n",
    "    return D, d.reshape(-1, 1)"
   ]
  },
  {
   "cell_type": "code",
   "execution_count": 215,
   "metadata": {},
   "outputs": [
    {
     "name": "stdout",
     "output_type": "stream",
     "text": [
      "Saved projected polyhedron.\n",
      "Shape of D is (5, 7)\n",
      "Shape of d is (5, 1)\n"
     ]
    }
   ],
   "source": [
    "# Run algorithm and write results to .txt file\n",
    "D, d = fme(1)\n",
    "P = np.matrix(np.concatenate((d, D), axis=1))\n",
    "with open(input_file+'_results.txt','wb') as file:\n",
    "    for line in P:\n",
    "        np.savetxt(file, line, fmt='%.0f')\n",
    "print(\"Saved projected polyhedron.\")\n",
    "print(f\"Shape of D is {D.shape}\")\n",
    "print(f\"Shape of d is {d.shape}\")"
   ]
  }
 ],
 "metadata": {
  "kernelspec": {
   "display_name": "Python 3",
   "language": "python",
   "name": "python3"
  },
  "language_info": {
   "codemirror_mode": {
    "name": "ipython",
    "version": 3
   },
   "file_extension": ".py",
   "mimetype": "text/x-python",
   "name": "python",
   "nbconvert_exporter": "python",
   "pygments_lexer": "ipython3",
   "version": "3.7.3"
  }
 },
 "nbformat": 4,
 "nbformat_minor": 2
}
