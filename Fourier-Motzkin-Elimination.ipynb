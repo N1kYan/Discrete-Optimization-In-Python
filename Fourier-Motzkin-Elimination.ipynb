{
 "cells": [
  {
   "cell_type": "markdown",
   "metadata": {},
   "source": [
    "## The Fourier Motzkin Elimination Algorithm\n",
    "This algorithm computes the orthogonal projection of a polyhedron by eliminating a given axis. <br><br>\n",
    "Assume the original polyhedron is defined by $P(A,b)=\\{x\\in K^m:Ax\\leq b\\}$, where $K \\subseteq R$. <br>\n",
    "Its orthogonal projection is given by ${Proj}_k(P(A,b))=\\{x\\in K^m : x_k=0, \\exists \\lambda \\in K : x + \\lambda e^k \\in P(A,b)\\}$, which is the projection of the polyhedron's shadow along dimension $k$.<br><br>\n",
    "This projection can be observed usgin the Fourier Motzkin Elimination (FME) Algorithm, and it can be shown that its result is again a polyhedron given by ${Proj}_k(P(A,b))=P(D,d)=\\{x\\in K^m:Dx\\leq d, x_k=0\\}$.  "
   ]
  },
  {
   "cell_type": "code",
   "execution_count": 40,
   "metadata": {},
   "outputs": [],
   "source": [
    "# Imports etc.\n",
    "import tqdm\n",
    "import numpy as np\n",
    "import matplotlib.pyplot as plt\n",
    "from itertools import product\n",
    "\n",
    "from src import visualize_polyhedron"
   ]
  },
  {
   "cell_type": "markdown",
   "metadata": {},
   "source": [
    "Let's start with reading-in a .txt file containing a description of a Polyhedron in the form of a concatenation of $[b,A]$. <br> This git repository already contains an example in fme_ex_polyhedron.txt that can be used."
   ]
  },
  {
   "cell_type": "code",
   "execution_count": 19,
   "metadata": {
    "scrolled": true
   },
   "outputs": [
    {
     "name": "stdout",
     "output_type": "stream",
     "text": [
      "Read-in polyhedron.\n",
      "Shape of A is (4, 2)\n",
      "Shape of b is (4, 1)\n"
     ]
    }
   ],
   "source": [
    "# Read-In polyhedron data from .txt file\n",
    "input_file = \"fme_ex_polyhedron.txt\"\n",
    "\n",
    "with open(input_file, 'r') as file:\n",
    "    P = np.matrix([[float(num) for num in line.split(' ')] for line in file])\n",
    "    \n",
    "b = P[:, 0]\n",
    "A = P[:, 1:]\n",
    "\n",
    "print(\"Read-in polyhedron.\")\n",
    "print(f\"Shape of A is {A.shape}\")\n",
    "print(f\"Shape of b is {b.shape}\")"
   ]
  },
  {
   "cell_type": "markdown",
   "metadata": {},
   "source": [
    "Now we want to visualize the loaded polyhedron using matplotlib."
   ]
  },
  {
   "cell_type": "code",
   "execution_count": 41,
   "metadata": {},
   "outputs": [
    {
     "data": {
      "image/png": "[encoded data removed]",
      "text/plain": [
       "<Figure size 720x360 with 1 Axes>"
      ]
     },
     "metadata": {
      "needs_background": "light"
     },
     "output_type": "display_data"
    }
   ],
   "source": [
    "visualize_polyhedron(A_mat=A, b_mat=b)"
   ]
  },
  {
   "cell_type": "code",
   "execution_count": 34,
   "metadata": {},
   "outputs": [],
   "source": [
    "# Main algorithm\n",
    "def fme(dim: int):\n",
    "    k = dim - 1\n",
    "    \"\"\" Fourier Motzkin Elemination\n",
    "    \n",
    "    :param dim: The index (axis) to be eliminated.\n",
    "    :return: Projected polyhedron\n",
    "    \"\"\"\n",
    "    \n",
    "    # We first partition our set of indices of A\n",
    "    C_k_0 = np.where(A[:,k] == 0)[0]\n",
    "    C_k_minus = np.where(A[:,k] < 0)[0]\n",
    "    C_k_plus = np.where(A[:,k] > 0)[0]\n",
    "    \n",
    "    D = np.zeros(shape=(A.shape[0], A.shape[1]))\n",
    "    d = np.zeros(shape=(b.shape[0]))\n",
    "    \n",
    "    # Iterate over these sets\n",
    "    i = 0\n",
    "    for ind in C_k_0:\n",
    "        D[i,:] = A[i,:]\n",
    "        d[i] = b[i]\n",
    "        i += 1\n",
    "    for (s, t) in list(product(C_k_minus, C_k_plus)): \n",
    "        D[i, :] = A[t,k]*A[s,:] - A[s,k]*A[t,:]\n",
    "        d[i] = A[t,k]*b[s] - A[s,k]*b[t]\n",
    "        i += 1\n",
    "        \n",
    "    # Return projected polyhedron \n",
    "    return D, d.reshape(-1, 1)"
   ]
  },
  {
   "cell_type": "code",
   "execution_count": 43,
   "metadata": {},
   "outputs": [
    {
     "name": "stdout",
     "output_type": "stream",
     "text": [
      "Saved projected polyhedron.\n",
      "Shape of D is (4, 2)\n",
      "Shape of d is (4, 1)\n"
     ]
    }
   ],
   "source": [
    "# Run algorithm and write results to .txt file\n",
    "D, d = fme(dim=1)\n",
    "P = np.matrix(np.concatenate((d, D), axis=1))\n",
    "with open(input_file[:-4]+'_results.txt','wb') as file:\n",
    "    for line in P:\n",
    "        np.savetxt(file, line, fmt='%.0f')\n",
    "print(\"Saved projected polyhedron.\")\n",
    "print(f\"Shape of D is {D.shape}\")\n",
    "print(f\"Shape of d is {d.shape}\")"
   ]
  },
  {
   "cell_type": "code",
   "execution_count": 44,
   "metadata": {},
   "outputs": [
    {
     "data": {
      "text/plain": [
       "array([[  0. ,   0.7],\n",
       "       [  0. , -17. ],\n",
       "       [  0. ,   3.8],\n",
       "       [  0. , -18. ]])"
      ]
     },
     "execution_count": 44,
     "metadata": {},
     "output_type": "execute_result"
    }
   ],
   "source": [
    "D"
   ]
  },
  {
   "cell_type": "code",
   "execution_count": 42,
   "metadata": {},
   "outputs": [
    {
     "name": "stderr",
     "output_type": "stream",
     "text": [
      "C:\\Users\\yannik\\Discrete-Optimization-In-Python\\src\\visualization\\visualize_polyhedra.py:22: RuntimeWarning: divide by zero encountered in true_divide\n",
      "  x1 = (b_mat[i] - A_mat[i,0]*x0)/A_mat[i,1]\n",
      "C:\\Users\\yannik\\Discrete-Optimization-In-Python\\src\\visualization\\visualize_polyhedra.py:22: RuntimeWarning: invalid value encountered in true_divide\n",
      "  x1 = (b_mat[i] - A_mat[i,0]*x0)/A_mat[i,1]\n"
     ]
    },
    {
     "data": {
      "image/png": "[encoded data removed]",
      "text/plain": [
       "<Figure size 720x360 with 1 Axes>"
      ]
     },
     "metadata": {
      "needs_background": "light"
     },
     "output_type": "display_data"
    }
   ],
   "source": [
    "visualize_polyhedron(D, d)"
   ]
  },
  {
   "cell_type": "code",
   "execution_count": null,
   "metadata": {},
   "outputs": [],
   "source": []
  }
 ],
 "metadata": {
  "kernelspec": {
   "display_name": "Python 3",
   "language": "python",
   "name": "python3"
  },
  "language_info": {
   "codemirror_mode": {
    "name": "ipython",
    "version": 3
   },
   "file_extension": ".py",
   "mimetype": "text/x-python",
   "name": "python",
   "nbconvert_exporter": "python",
   "pygments_lexer": "ipython3",
   "version": "3.8.5"
  }
 },
 "nbformat": 4,
 "nbformat_minor": 2
}
