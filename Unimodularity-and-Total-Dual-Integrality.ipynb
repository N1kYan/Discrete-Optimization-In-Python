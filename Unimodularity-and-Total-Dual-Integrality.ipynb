{
 "cells": [
  {
   "cell_type": "code",
   "execution_count": 163,
   "metadata": {},
   "outputs": [],
   "source": [
    "import numpy as np"
   ]
  },
  {
   "cell_type": "markdown",
   "metadata": {},
   "source": [
    "# Total Unimodularity"
   ]
  },
  {
   "cell_type": "markdown",
   "metadata": {},
   "source": [
    "To determine if a Polyhedron even has an integral vertex, i.e. the corresponding linear program has an integral solution, we can use the concepts of <b>unimodularity</b> and <b>dual integrality<b>."
   ]
  },
  {
   "cell_type": "markdown",
   "metadata": {},
   "source": [
    "A matrix $A \\in Z^{m \\times n}$ is called <b>unimodular</b> if every $(m \\times m)$ submatrix has determinant -1, 1 or 0.\n",
    "It is called <b>totally unimodular (TU)</b> if the determinant of <i>every</i> submatrix has determinant -1, 1 or 0."
   ]
  },
  {
   "cell_type": "markdown",
   "metadata": {},
   "source": [
    "While every TU matrix with full row rank is unimodular, the opposite does not hold, as the following example shows:"
   ]
  },
  {
   "cell_type": "code",
   "execution_count": 164,
   "metadata": {},
   "outputs": [
    {
     "data": {
      "text/plain": [
       "matrix([[2, 3, 2],\n",
       "        [4, 2, 3],\n",
       "        [9, 6, 7]])"
      ]
     },
     "execution_count": 164,
     "metadata": {},
     "output_type": "execute_result"
    }
   ],
   "source": [
    "A = np.matrix('2 3 2; 4 2 3; 9 6 7')\n",
    "A"
   ]
  },
  {
   "cell_type": "markdown",
   "metadata": {},
   "source": [
    "The determinant of this Matrix, which is it's only $(3 \\times 3)$ submatrix, is 1."
   ]
  },
  {
   "cell_type": "code",
   "execution_count": 165,
   "metadata": {},
   "outputs": [
    {
     "data": {
      "text/plain": [
       "1.0000000000000102"
      ]
     },
     "execution_count": 165,
     "metadata": {},
     "output_type": "execute_result"
    }
   ],
   "source": [
    "np.linalg.det(A)"
   ]
  },
  {
   "cell_type": "markdown",
   "metadata": {},
   "source": [
    "But not the determinant of every submatrix, which would include single cells, that are not all -1, 1 or 0."
   ]
  },
  {
   "cell_type": "markdown",
   "metadata": {},
   "source": [
    "Important relations of a matrix $A \\in Z^{m \\times n}$ with full row rank and polyhedra induced by it, are the following:<br><br>\n",
    "* $A$ is TU $\\iff P := \\{x|Ax=b, x\\geq 0\\}$ is integral $\\forall b\\in Z^m$<br>\n",
    "* $A$ is TU $\\iff P := \\{x|Ax\\leq b, x\\geq 0\\}$ is integral $\\forall b\\in Z^m$<br>\n",
    "* $A$ is TU  $\\Rightarrow P := \\{x|Ax=b, x\\geq 0\\}$ is integral $\\forall b\\in Z^m$"
   ]
  },
  {
   "cell_type": "markdown",
   "metadata": {},
   "source": [
    "# Dual Integrality"
   ]
  },
  {
   "cell_type": "markdown",
   "metadata": {},
   "source": [
    "Using the above, we can directly derive an important insight into the existance of integer solutions of the primal and dual version of an LP:<br><br>\n",
    "If $A$ is TU and $b, c$ are integral $\\Rightarrow$ $max\\{c^Tx|Ax\\leq b\\}=min\\{b^Ty|A^Ty=c, y\\geq0\\}$ both have integral optimal solutions if they are feasible & bounded."
   ]
  },
  {
   "cell_type": "markdown",
   "metadata": {},
   "source": [
    "# Hermite Normal Form"
   ]
  },
  {
   "cell_type": "markdown",
   "metadata": {},
   "source": [
    "For the remainder, we need another concept, which is the <b>Hermite Normal Form (HNF).</b><br><br>\n",
    "A matrix $A$ is in HNF, if it has the form $A=[B,0]$, where $B$ is a non-negative lower triangular matrix and $B$ has the unique maximum entry of each row on the diagonal.<br><br>\n",
    "Every rational matrix $A \\in Q^{m \\times n}$ of full row rank can be brought into HNF with <b>unimodular column operations</b> which are:\n",
    "* Swapping the columns of A\n",
    "* Negating colums of A\n",
    "* Adding a multiple of a column of A onto another column\n",
    "\n",
    "The column operations can be expressed as multiplications with unimodular matrices, which can be combined in a (unimodular) matrix $U$, such that $AU = [B,0]$. The matrices $B$ and $U$ are uniqe and can be computed in polytime.\n",
    "<br><br>\n",
    "For $x \\in R^5$, the operations would look like this in matrix form:"
   ]
  },
  {
   "cell_type": "code",
   "execution_count": 166,
   "metadata": {},
   "outputs": [
    {
     "data": {
      "text/plain": [
       "array([[1., 0., 0., 0., 0.],\n",
       "       [0., 0., 1., 0., 0.],\n",
       "       [0., 1., 0., 0., 0.],\n",
       "       [0., 0., 0., 1., 0.],\n",
       "       [0., 0., 0., 0., 1.]])"
      ]
     },
     "execution_count": 166,
     "metadata": {},
     "output_type": "execute_result"
    }
   ],
   "source": [
    "# Swapping indices i and j\n",
    "i = 1\n",
    "j = 2\n",
    "swapping_operation = np.eye(5)\n",
    "swapping_operation[i, i] = 0\n",
    "swapping_operation[j, j] = 0\n",
    "swapping_operation[i, j] = swapping_operation[j, i] = 1\n",
    "swapping_operation"
   ]
  },
  {
   "cell_type": "code",
   "execution_count": 167,
   "metadata": {},
   "outputs": [
    {
     "data": {
      "text/plain": [
       "array([[ 1.,  0.,  0.,  0.,  0.],\n",
       "       [ 0.,  1.,  0.,  0.,  0.],\n",
       "       [ 0.,  0., -1.,  0.,  0.],\n",
       "       [ 0.,  0.,  0.,  1.,  0.],\n",
       "       [ 0.,  0.,  0.,  0.,  1.]])"
      ]
     },
     "execution_count": 167,
     "metadata": {},
     "output_type": "execute_result"
    }
   ],
   "source": [
    "# Negating index j=2\n",
    "j = 2\n",
    "negate_operation = np.eye(5)\n",
    "negate_operation[j,j] *= -1\n",
    "negate_operation"
   ]
  },
  {
   "cell_type": "code",
   "execution_count": 168,
   "metadata": {},
   "outputs": [
    {
     "data": {
      "text/plain": [
       "array([[1., 0., 0., 0., 0.],\n",
       "       [0., 1., 0., 0., 0.],\n",
       "       [0., 3., 1., 0., 0.],\n",
       "       [0., 0., 0., 1., 0.],\n",
       "       [0., 0., 0., 0., 1.]])"
      ]
     },
     "execution_count": 168,
     "metadata": {},
     "output_type": "execute_result"
    }
   ],
   "source": [
    "# Adding multiples (k) of index j to index i\n",
    "k = 3\n",
    "j = 2\n",
    "i = 1\n",
    "adding_operation = np.eye(5)\n",
    "adding_operation[j, i] = k\n",
    "adding_operation"
   ]
  },
  {
   "cell_type": "markdown",
   "metadata": {},
   "source": [
    "Let's look at an example:"
   ]
  },
  {
   "cell_type": "code",
   "execution_count": 169,
   "metadata": {},
   "outputs": [
    {
     "data": {
      "text/plain": [
       "matrix([[ 4,  8,  0, -4,  4],\n",
       "        [ 3, -6,  6,  9,  0],\n",
       "        [ 2, -2,  0,  4, -4]])"
      ]
     },
     "execution_count": 169,
     "metadata": {},
     "output_type": "execute_result"
    }
   ],
   "source": [
    "A = np.matrix('4 8 0 -4 4; 3 -6 6 9 0; 2 -2 0 4 -4')\n",
    "A"
   ]
  },
  {
   "cell_type": "markdown",
   "metadata": {},
   "source": [
    "First, we can substract the first column two times from the second column, once from the last column and add it once to the 4th column:"
   ]
  },
  {
   "cell_type": "code",
   "execution_count": 170,
   "metadata": {},
   "outputs": [
    {
     "data": {
      "text/plain": [
       "matrix([[  4,   0,   0,   0,   0],\n",
       "        [  3, -12,   6,  12,  -3],\n",
       "        [  2,  -6,   0,   6,  -6]])"
      ]
     },
     "execution_count": 170,
     "metadata": {},
     "output_type": "execute_result"
    }
   ],
   "source": [
    "A[:, 1] -= 2 * A[:, 0]\n",
    "A[:, 3] += A[:, 0]\n",
    "A[:, 4] -= A[:, 0]\n",
    "A"
   ]
  },
  {
   "cell_type": "markdown",
   "metadata": {},
   "source": [
    "Then we negate the last column:"
   ]
  },
  {
   "cell_type": "code",
   "execution_count": 171,
   "metadata": {},
   "outputs": [
    {
     "data": {
      "text/plain": [
       "matrix([[  4,   0,   0,   0,   0],\n",
       "        [  3, -12,   6,  12,   3],\n",
       "        [  2,  -6,   0,   6,   6]])"
      ]
     },
     "execution_count": 171,
     "metadata": {},
     "output_type": "execute_result"
    }
   ],
   "source": [
    "A[:, 4] *= -1\n",
    "A"
   ]
  },
  {
   "cell_type": "markdown",
   "metadata": {},
   "source": [
    "Now we add the last column four times onto the second one, substract it two times from the third one and add the second column once to the fourth column:"
   ]
  },
  {
   "cell_type": "code",
   "execution_count": 172,
   "metadata": {},
   "outputs": [
    {
     "data": {
      "text/plain": [
       "matrix([[  4,   0,   0,   0,   0],\n",
       "        [  3,   0,  -3,   0,   3],\n",
       "        [  2,  18, -18,   0,   6]])"
      ]
     },
     "execution_count": 172,
     "metadata": {},
     "output_type": "execute_result"
    }
   ],
   "source": [
    "A[:, 3] += A[:, 1]\n",
    "A[:, 1] += 4 * A[:, 4]\n",
    "A[:, 2] -= 3 * A[:, 4]\n",
    "A"
   ]
  },
  {
   "cell_type": "markdown",
   "metadata": {},
   "source": [
    "Then we can substract column 3 from column 4, and substract column 2 from column 5:"
   ]
  },
  {
   "cell_type": "code",
   "execution_count": 173,
   "metadata": {},
   "outputs": [
    {
     "data": {
      "text/plain": [
       "matrix([[  4,   0,   0,   0,   0],\n",
       "        [  3,   0,  -3,   3,   3],\n",
       "        [  2,  18, -18,  18, -12]])"
      ]
     },
     "execution_count": 173,
     "metadata": {},
     "output_type": "execute_result"
    }
   ],
   "source": [
    "A[:, 3] -= A[:, 2]\n",
    "A[:, 4] -= A[:, 1]\n",
    "A"
   ]
  },
  {
   "cell_type": "markdown",
   "metadata": {},
   "source": [
    "After that we can  substract column 2 two times from column 3 and swap it, and substract column 2 from column 1:"
   ]
  },
  {
   "cell_type": "code",
   "execution_count": 174,
   "metadata": {},
   "outputs": [
    {
     "data": {
      "text/plain": [
       "matrix([[  4,   0,   0,   0,   0],\n",
       "        [  3,   0,   3,  -9,   3],\n",
       "        [-16,  18,  18, -54, -12]])"
      ]
     },
     "execution_count": 174,
     "metadata": {},
     "output_type": "execute_result"
    }
   ],
   "source": [
    "A[:, 0] -= A[:, 1]\n",
    "A[:, 2] -= 2 * A[:, 3]\n",
    "v = A[:, 3].copy()\n",
    "A[:, 3] = A[:, 2]\n",
    "A[:, 2] = v\n",
    "A"
   ]
  },
  {
   "cell_type": "markdown",
   "metadata": {},
   "source": [
    "Finally, we arrive at our HNF $[B, 0]$, by adding column 3 onto column 1 and substracting it from column 2:"
   ]
  },
  {
   "cell_type": "code",
   "execution_count": 175,
   "metadata": {},
   "outputs": [
    {
     "data": {
      "text/plain": [
       "matrix([[  4,   0,   0,   0,   0],\n",
       "        [  6,  -3,   3,  -9,   3],\n",
       "        [  2,   0,  18, -54, -12]])"
      ]
     },
     "execution_count": 175,
     "metadata": {},
     "output_type": "execute_result"
    }
   ],
   "source": [
    "A[:, 0] += A[:, 2]\n",
    "A[:, 1] -= A[:, 2]\n",
    "A"
   ]
  },
  {
   "cell_type": "markdown",
   "metadata": {},
   "source": [
    "# Integral Farkas Lemma"
   ]
  },
  {
   "cell_type": "markdown",
   "metadata": {},
   "source": [
    "The HNF can be used to prove an integral version of the farkas lemma, which gives:<br><br>\n",
    "Let $A \\in Q^{m \\times n}$, $b \\in Q^m$. Then either,\n",
    "<br><br>\n",
    "$\\exists x \\in Z^n: Ax=b$ or\n",
    "<br><br>\n",
    "$\\exists y \\in Q^m: y^T A \\in Z^n, y^T b \\notin Z$<br><br>"
   ]
  },
  {
   "cell_type": "markdown",
   "metadata": {},
   "source": [
    "For $A \\in Q^{m \\times n}$, $b \\in Q^m$ we can use these results to obtain an integral solution $x \\in Z^n$ for $Ax=b$ in polytime, or infer that no such solution exists.\n",
    "<br><br>\n",
    "Note that these results only hold for the equality $Ax=b$.\n",
    "<br><br>\n",
    "As soon as we constrain $x$ further, e.g. $x \\in \\{0,1\\}^{m \\times n}$, or want to solve $Ax\\leq b$, they do not hold anymore."
   ]
  },
  {
   "cell_type": "markdown",
   "metadata": {},
   "source": [
    "# Total Dual Integrality"
   ]
  },
  {
   "cell_type": "markdown",
   "metadata": {},
   "source": [
    "The integral Farkas lemma above provides enough power for the concept of total dual integrality to work.\n",
    "<br><br>\n",
    "For $A \\in Q^{m \\times n}$, $b \\in Q^m$, the system $Ax\\leq b$ is <b>totally dual integral (TDI)</b>, if\n",
    "<br><br>\n",
    "$\\forall c \\in Z^n: min\\{b^Ty|A^Ty=c, y\\geq 0\\}$ has an integral solution if any exists."
   ]
  },
  {
   "cell_type": "markdown",
   "metadata": {},
   "source": [
    "Combining the concepts from above, we get two important results:\n",
    "1. If $A$ is TU $\\Rightarrow$ $Ax\\leq b$ is TDI $\\forall b \\in Q^m$ <br>\n",
    "2. If the system $Ax\\leq b$ is TDI and $b \\in Z^m$ $\\Rightarrow$ $P=P(A,b)$ is integral"
   ]
  },
  {
   "cell_type": "markdown",
   "metadata": {},
   "source": [
    "# Hilbert Bases"
   ]
  },
  {
   "cell_type": "markdown",
   "metadata": {},
   "source": [
    "To keep going, we need to define an important property of polyhedra that are induces by TDI systems.\n",
    "<br><br>\n",
    "Namely, a finite subset $H=\\{h^1, h^2, ..., h^t\\} \\subset C$ of a rational polyhedral cone $C \\subset R^n$ is called a <b> Hilbert basis</b> of $C$, if \n",
    "<br><br>\n",
    "$\\forall z \\in C \\cap Z^n$ there is a $\\lambda \\in Z^t_{\\geq 0}: z = \\sum_{i=1}^t \\lambda_i k^i$.\n",
    "<br><br>\n",
    "The Hilbert basis is called <b>integral</b> if $H \\subseteq Z^n$."
   ]
  },
  {
   "cell_type": "markdown",
   "metadata": {},
   "source": [
    "Let's look at an example again:"
   ]
  },
  {
   "cell_type": "code",
   "execution_count": null,
   "metadata": {},
   "outputs": [],
   "source": [
    "# TODO"
   ]
  },
  {
   "cell_type": "markdown",
   "metadata": {},
   "source": [
    "We can derive the following connection to systems that are TDI:\n",
    "<br><br>\n",
    "Let $A \\in Q^{m \\times n}$, $b \\in Q^m$ with $P=P(A,b)\\neq0$.\n",
    "<br><br>\n",
    "If $Ax\\leq b$ is TDI $\\iff \\forall$ (min) faces $F$ of $P$: the rows of $A_{eq(F)\\bullet}$ form a Hilbert basis of cone($(A_{eq(F))\\bullet})^T$).\n",
    "<br><br>\n",
    "This means that every rational polyhedron $P$ can be described by a TDI system $Ax\\leq b$ with integral $A$!\n",
    "<br><br>\n",
    "And in particular:\n",
    "<br><br>\n",
    "If a rational polyhedron $P$ is integral $\\iff$ $\\exists$ a TDI system $Ax\\leq b$ describing it with $A,b$ integral!\n",
    "<br><br>\n",
    "But still, even deciding whether a system $Ax\\leq 1$ is TDI, is NP-complete."
   ]
  },
  {
   "cell_type": "code",
   "execution_count": null,
   "metadata": {},
   "outputs": [],
   "source": []
  }
 ],
 "metadata": {
  "kernelspec": {
   "display_name": "Python 3",
   "language": "python",
   "name": "python3"
  },
  "language_info": {
   "codemirror_mode": {
    "name": "ipython",
    "version": 3
   },
   "file_extension": ".py",
   "mimetype": "text/x-python",
   "name": "python",
   "nbconvert_exporter": "python",
   "pygments_lexer": "ipython3",
   "version": "3.7.10"
  }
 },
 "nbformat": 4,
 "nbformat_minor": 4
}
