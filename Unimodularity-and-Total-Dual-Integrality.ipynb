{
 "cells": [
  {
   "cell_type": "code",
   "execution_count": 1,
   "metadata": {},
   "outputs": [],
   "source": [
    "import numpy as np"
   ]
  },
  {
   "cell_type": "markdown",
   "metadata": {},
   "source": [
    "# Total Unimodularity"
   ]
  },
  {
   "cell_type": "markdown",
   "metadata": {},
   "source": [
    "To determine if a Polyhedron even has an integral vertex, i.e. the corresponding linear program has an integral solution, we can use the concepts of <b>unimodularity</b> and <b>dual integrality<b>."
   ]
  },
  {
   "cell_type": "markdown",
   "metadata": {},
   "source": [
    "A matrix $A \\in Z^{m \\times n}$ is called <b>unimodular</b> if every $(m \\times m)$ submatrix has determinant -1, 1 or 0.\n",
    "It is called <b>totally unimodular (TU)</b> if the determinant of <i>every</i> submatrix has determinant -1, 1 or 0."
   ]
  },
  {
   "cell_type": "markdown",
   "metadata": {},
   "source": [
    "While every TU matrix with full row rank is unimodular, the opposite does not hold, as the following example shows:"
   ]
  },
  {
   "cell_type": "code",
   "execution_count": 2,
   "metadata": {},
   "outputs": [
    {
     "data": {
      "text/plain": [
       "matrix([[2, 3, 2],\n",
       "        [4, 2, 3],\n",
       "        [9, 6, 7]])"
      ]
     },
     "execution_count": 2,
     "metadata": {},
     "output_type": "execute_result"
    }
   ],
   "source": [
    "A = np.matrix('2 3 2; 4 2 3; 9 6 7')\n",
    "A"
   ]
  },
  {
   "cell_type": "markdown",
   "metadata": {},
   "source": [
    "The determinant of this Matrix, which is it's only $(3 \\times 3)$ submatrix, is 1."
   ]
  },
  {
   "cell_type": "code",
   "execution_count": 4,
   "metadata": {},
   "outputs": [
    {
     "data": {
      "text/plain": [
       "1.000000000000003"
      ]
     },
     "execution_count": 4,
     "metadata": {},
     "output_type": "execute_result"
    }
   ],
   "source": [
    "np.linalg.det(A)"
   ]
  },
  {
   "cell_type": "markdown",
   "metadata": {},
   "source": [
    "But not the determinant of every submatrix, which would include single cells, that are not all -1, 1 or 0."
   ]
  },
  {
   "cell_type": "markdown",
   "metadata": {},
   "source": [
    "Important relations of a matrix $A \\in Z^{m \\times n}$ with full row rank and polyhedra induced by it, are the following:<br><br>\n",
    "$A$ is TU $\\iff P := \\{x|Ax=b, x\\geq 0\\}$ is integral $\\forall b\\in Z^m$<br>\n",
    "$A$ is TU $\\iff P := \\{x|Ax\\leq b, x\\geq 0\\}$ is integral $\\forall b\\in Z^m$<br>\n",
    "$A$ is TU  $\\Rightarrow P := \\{x|Ax=b, x\\geq 0\\}$ is integral $\\forall b\\in Z^m$"
   ]
  },
  {
   "cell_type": "markdown",
   "metadata": {},
   "source": [
    "# Dual Integrality"
   ]
  },
  {
   "cell_type": "markdown",
   "metadata": {},
   "source": [
    "Using the above, we can directly derive an important insight into the existance of integer solutions of the primal and dual version of an LP:<br><br>\n",
    "If $A$ is TU and $b, c$ are integral $\\Rightarrow$ $max\\{c^Tx|Ax\\leq b\\}=min\\{b^Ty|A^Ty=c, y\\geq0\\}$ both have integral optimal solutions if they are feasible & bounded."
   ]
  },
  {
   "cell_type": "code",
   "execution_count": null,
   "metadata": {},
   "outputs": [],
   "source": []
  }
 ],
 "metadata": {
  "kernelspec": {
   "display_name": "Python 3",
   "language": "python",
   "name": "python3"
  },
  "language_info": {
   "codemirror_mode": {
    "name": "ipython",
    "version": 3
   },
   "file_extension": ".py",
   "mimetype": "text/x-python",
   "name": "python",
   "nbconvert_exporter": "python",
   "pygments_lexer": "ipython3",
   "version": "3.8.5"
  }
 },
 "nbformat": 4,
 "nbformat_minor": 4
}
