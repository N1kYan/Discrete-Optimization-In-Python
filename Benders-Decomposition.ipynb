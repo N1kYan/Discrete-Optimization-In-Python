{
 "cells": [
  {
   "cell_type": "markdown",
   "metadata": {},
   "source": [
    "Now, where the [Dantzig-Wolfe Decomposition](Dantzig-Wolfe-Decomposition.ipynb) removed rows/inequalites and reintroduced them by generating columns/variables, the following decomposition method removes columns/variables and reintroduces them later by generating rows/cuts."
   ]
  },
  {
   "cell_type": "markdown",
   "metadata": {},
   "source": [
    "# Bender's Decomposition"
   ]
  },
  {
   "cell_type": "markdown",
   "metadata": {},
   "source": [
    "Consider a MIP where we split our variables $x \\in Z^p \\cap R^{n-p}$ into the two subsets $x^1 \\in Z^{n_1}$ and $x^2 \\in R^{n_2}$:\n",
    "<br><br>\n",
    "$\n",
    "\\begin{equation}\n",
    "    \\begin{array}{ll@{}ll}\n",
    "        \\displaystyle \\text{max} & (c^1)^Tx^1 + (c^2)^Tx^2 &\\\\\n",
    "        \\displaystyle \\text{s.t} & A^1x^1 + A^2x^2 \\leq b &\\\\\n",
    "        \\displaystyle            & x^1 \\in Z^{n_1}, x^2 \\in R^{n_2}\n",
    "    \\end{array}\n",
    "\\end{equation}\n",
    "$\n",
    "<br><br>\n",
    "with \n",
    "<br><br>\n",
    "$A^1\\in Q^{m \\times n_1}, c^1\\in Q^{n_1}, A^2\\in Q^{m \\times n_2}, c^2\\in Q^{n_2}, b \\in Q^m$"
   ]
  },
  {
   "cell_type": "markdown",
   "metadata": {},
   "source": [
    "The above can be re-written as \n",
    "<br><br>\n",
    "$\\displaystyle \\text{max}_{x^1 \\in Z^{n_1}, z\\in R} \\{z + \\text{min}_{\\gamma \\in R, \\nu \\in R^m} \\{\\gamma ((c^1)^Tx^1 - z) + \\nu^T(b-A^1x^1)| \\left(\\begin{smallmatrix}\\gamma \\\\ \\nu\\end{smallmatrix}\\right) \\in C\\}\\}$\n",
    "<br><br>\n",
    "where\n",
    "<br><br>\n",
    "$C:=\\{\\left(\\begin{smallmatrix}\\gamma \\\\ \\nu\\end{smallmatrix}\\right) \\in R \\times R^m|\\nu^TA^2 - \\gamma (c^2)^T=0, \\gamma \\geq 0, \\nu \\geq 0\\}$."
   ]
  },
  {
   "cell_type": "markdown",
   "metadata": {},
   "source": [
    "Note that $C$ is a cone and we can rewrite it using the [interior representation](Interior-Exterior-Representations.ipynb) of the it, and the fact that $C \\subseteq R_{\\geq 0} \\times R^m_{\\geq 0}$, by \n",
    "<br><br>\n",
    "$ C := \\text{cone}\\{ \\left(\\begin{smallmatrix} 1 \\\\ v^1 \\end{smallmatrix}\\right), ..., \\left(\\begin{smallmatrix} 1 \\\\ v^k \\end{smallmatrix}\\right), \\left(\\begin{smallmatrix} 0 \\\\ r^1 \\end{smallmatrix}\\right), ..., \\left(\\begin{smallmatrix} 0 \\\\ r^l\\end{smallmatrix}\\right) \\}$\n",
    "<br><br>\n",
    "which yields the <b>master problem</b> for Bender's Decomposition:\n",
    "<br><br>\n",
    "$\n",
    "\\begin{equation}\n",
    "    \\begin{array}{ll@{}ll}\n",
    "        \\displaystyle \\text{max} & z &\\\\\n",
    "        \\displaystyle \\text{s.t} & z \\leq (c^1)^Tx^1 + (v^i)^T(b-A^1x^1) & \\forall i \\in [k] &\\\\\n",
    "        \\displaystyle            & 0 \\leq (r^j)^T (b - A^1x^1)           & \\forall j \\in [l] &\\\\\n",
    "        \\displaystyle            & z \\in R, x^1 \\in Z^{n_1}\n",
    "    \\end{array}\n",
    "\\end{equation}\n",
    "$"
   ]
  },
  {
   "cell_type": "markdown",
   "metadata": {},
   "source": [
    "Note: If there is a feasible tuple $(z, x^1)$ to the master problem, then there is a $x^2$ such that $(z, x^1, x^2)$ is feasible for the original MIP. The master problem can be seen as a projection of the MIP w.r.t. $x^2$."
   ]
  },
  {
   "cell_type": "markdown",
   "metadata": {},
   "source": [
    "Note: The master problem reduces the amount of variables to $n_1 + 1$ but the number of inequalities increases potentially exponentially."
   ]
  },
  {
   "cell_type": "markdown",
   "metadata": {},
   "source": [
    "An optimal solution $(\\hat z, \\hat x^1)$ to the LP relaxation of the master problem can be obtained e.g. using the [Branch and Bound method](Branch-And-Bound.ipynb). Then, one can solve <b>Bender's Subproblem</b> to obtain a violated inequality / cut:\n",
    "<br><br>\n",
    "$\n",
    "\\begin{equation}\n",
    "    \\begin{array}{ll@{}ll}\n",
    "        \\displaystyle \\text{min} & \\nu^T(b-A^1\\hat x^1) - \\gamma (\\hat z - (c^1)^T\\hat x^1) &\\\\\n",
    "        \\displaystyle \\text{s.t} & \\left(\\begin{smallmatrix}\\gamma \\\\ \\nu\\end{smallmatrix}\\right) \\in C &\\\\\n",
    "    \\end{array}\n",
    "\\end{equation}\n",
    "$\n",
    "<br><br>\n",
    "This problem has two possible optimal objective values $\\hat w$ for $(\\hat\\nu, \\hat\\gamma)$:\n",
    "1. $\\hat w = 0$ $\\rightarrow$ there is no viol. ineq. for the master problem $\\rightarrow$ $(\\hat z, \\hat x^1)$ is optimal for it\n",
    "<br><br>\n",
    "2. $\\hat w = -\\infty $ $\\rightarrow$ the inequality\n",
    "$\\hat\\nu^T(b-A^1\\hat x^1)-\\hat \\gamma(\\hat z - (c^1)^T\\hat x^1) < 0$\n",
    "violates the master problem and can be used as a cut after rescaling it to $\\hat\\gamma \\in \\{0,1\\}$\n",
    "\n",
    "Then we can proceed with the Branch and Bound procedure."
   ]
  },
  {
   "cell_type": "markdown",
   "metadata": {},
   "source": [
    "Note: Bender's Decomposition is equivalent to Dantzig-Wolfe Decomposition of the dual."
   ]
  },
  {
   "cell_type": "code",
   "execution_count": null,
   "metadata": {},
   "outputs": [],
   "source": []
  }
 ],
 "metadata": {
  "kernelspec": {
   "display_name": "Python 3",
   "language": "python",
   "name": "python3"
  },
  "language_info": {
   "codemirror_mode": {
    "name": "ipython",
    "version": 3
   },
   "file_extension": ".py",
   "mimetype": "text/x-python",
   "name": "python",
   "nbconvert_exporter": "python",
   "pygments_lexer": "ipython3",
   "version": "3.8.5"
  }
 },
 "nbformat": 4,
 "nbformat_minor": 4
}
