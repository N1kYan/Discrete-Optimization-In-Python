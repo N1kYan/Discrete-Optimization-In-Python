{
 "cells": [
  {
   "cell_type": "markdown",
   "metadata": {},
   "source": [
    "Now let's have a look at another relaxation method. The difference to the [Lagrange Relaxation](Lagrange-Relaxation.ipynb) is that we now approach solving the \"easier\" part of an LP implicitly by enforcing a special structure for the other part, obtained from the interior representation of the polyhedron induced by that part."
   ]
  },
  {
   "cell_type": "markdown",
   "metadata": {},
   "source": [
    "# The Dantzig-Wolfe Decomposition"
   ]
  },
  {
   "cell_type": "markdown",
   "metadata": {},
   "source": [
    "Consider the following rational Linear Program\n",
    "<br><br>\n",
    "$\n",
    "\\begin{equation}\n",
    "    \\begin{array}{ll@{}ll}\n",
    "        \\displaystyle \\text{max} & c^Tx &\\\\\n",
    "        \\displaystyle \\text{s.t} & A^1x \\leq b^1 &\\\\\n",
    "        \\displaystyle            & A^2x \\leq b^2 &\\\\ \n",
    "        \\displaystyle            & x \\in R^n\n",
    "    \\end{array}\n",
    "\\end{equation}\n",
    "$\n",
    "<br><br>\n",
    "with \n",
    "<br><br>\n",
    "$A^1\\in Q^{m_1 \\times n}, b^1\\in Q^{m_1}, A^2\\in Q^{m_2 \\times n}, b^2\\in Q^{m_2}, c \\in R^n$"
   ]
  },
  {
   "cell_type": "markdown",
   "metadata": {},
   "source": [
    "Now, we now from [here](Interior-Exterior-Representations.ipynb) that we can rewrite the polyhedron $P(A^2,b^2)$, induced by the inequalities $A^2x \\leq b^2$, as the sum of the convex combination of a set of vertices $cone(\\{v^1,...,v^k\\})$ and the conic combination of a set of extreme rays $cone(\\{r^1,...,.r^l\\})$. Using this, we can rewrite $x\\in P(A^2,b^2)$ as:\n",
    "<br><br>\n",
    "$\\displaystyle x = \\sum_{i=1}^k \\lambda_i v^i + \\sum_{j=1}^l \\mu_j r^j$\n",
    "<br><br>\n",
    "with\n",
    "<br><br>\n",
    "$\\lambda_i, \\mu_j \\geq 0, \\>\\> \\displaystyle \\sum_{i=1}^k \\lambda_i = 1$"
   ]
  },
  {
   "cell_type": "markdown",
   "metadata": {},
   "source": [
    "Plugging this form (and so enforcing a point to be feasible for $P(A^2, b^2)$ back into the LP yields the <b>master problem</b> for the decomposition method:\n",
    "<br><br>\n",
    "$\n",
    "\\begin{equation}\n",
    "    \\begin{array}{ll@{}ll}\n",
    "        \\displaystyle \\text{max} &\\sum_{i=1}^k (c^T v^i)\\lambda_i + \\sum_{j=1}^l (c^T r^j)\\mu_j &\\\\\n",
    "        \\displaystyle \\text{s.t} & \\sum_{i=1}^k (A^1 v^i)\\lambda_i + \\sum_{j=1}^l (A^1 r^j)\\mu_j & \\leq b^1 &\\\\\n",
    "        \\displaystyle            & \\sum_{i=1}^k \\lambda_i & = 1 &\\\\ \n",
    "        \\displaystyle            & \\lambda \\in R^k_{\\geq 0}, \\mu \\in R^l_{\\geq 0}\n",
    "    \\end{array}\n",
    "\\end{equation}\n",
    "$\n",
    "<br><br>\n",
    "Note that this decreases the number of inequalities to consider to $m_1 + 1$, but increases the amount of variables to solve to $k+l$, an potentially exponential amount!"
   ]
  },
  {
   "cell_type": "markdown",
   "metadata": {},
   "source": [
    "This problem can be wrapped into a more appealing form\n",
    "<br><br>\n",
    "$\\text{max}\\{\\tilde c^Tz|Dz=d, z\\geq 0\\}$\n",
    "<br><br>\n",
    "with\n",
    "<br><br>\n",
    "$D\\in Q^{(m_1+1)\\times(k+l+m_1)}, d\\in Q^{m_1+1}, \\tilde c \\in Q^{k+l+m_1}$\n",
    "<br><br>\n",
    "and now it can be solved using the <b>Simplex</b> algorithm!\n",
    "<br><br>\n",
    "That solves the above problem and obtains an optimal $z^*_B=D_B^{-1}d$ with an optimal basis $B \\subseteq [k+l+m_1], |B| = m_1 + 1$ and $z^*_N=0$ for $N:=[k+l+m_1] \\setminus B$.\n",
    "<br><br>\n",
    "In order to obtain potential bases to enter, the Simplex then needs to check whether $\\tilde c^T_N -\\tilde y^TD_N\\leq 0$ for the solution $\\tilde y$ of $y^TD_B=\\tilde c^T$."
   ]
  },
  {
   "cell_type": "markdown",
   "metadata": {},
   "source": [
    "It can be shown that instead of checking the reduced costs of all potential bases, it is suffiecient to solve the <b>pricing problem</b> instead:\n",
    "<br><br>\n",
    "$\n",
    "\\begin{equation}\n",
    "    \\begin{array}{ll@{}ll}\n",
    "        \\displaystyle \\text{max} & (c^T - \\bar y ^T A^1)x &\\\\\n",
    "        \\displaystyle \\text{s.t} & A^2x \\leq b^2 &\\\\\n",
    "        \\displaystyle            & x \\in R^n\n",
    "    \\end{array}\n",
    "\\end{equation}\n",
    "$\n",
    "<br><br>\n",
    "where $\\bar y=(\\bar y, \\>\\> \\tilde y_{m_1+1})^T$"
   ]
  },
  {
   "cell_type": "markdown",
   "metadata": {},
   "source": [
    "The process of iteratively solving the master problem with the Simplex algorithm and generating bases to enter by solving the pricing problem, is called <b>Delayed Column Generation</b>.\n",
    "<br><br>\n",
    "Note: The procedure can hardly deal with IPs instead of the LP, as we can not just demand &\\lambda& and &\\mu& to be integral in order to ensure integral solutions in the master problem. But this problem does not appear in the binary case, so this decomposition method should be mainly used in the LP or BP case."
   ]
  },
  {
   "cell_type": "code",
   "execution_count": null,
   "metadata": {},
   "outputs": [],
   "source": []
  }
 ],
 "metadata": {
  "kernelspec": {
   "display_name": "Python 3",
   "language": "python",
   "name": "python3"
  },
  "language_info": {
   "codemirror_mode": {
    "name": "ipython",
    "version": 3
   },
   "file_extension": ".py",
   "mimetype": "text/x-python",
   "name": "python",
   "nbconvert_exporter": "python",
   "pygments_lexer": "ipython3",
   "version": "3.8.5"
  }
 },
 "nbformat": 4,
 "nbformat_minor": 4
}
