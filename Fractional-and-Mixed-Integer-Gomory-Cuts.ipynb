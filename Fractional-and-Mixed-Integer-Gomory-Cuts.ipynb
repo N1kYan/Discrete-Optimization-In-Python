{
 "cells": [
  {
   "cell_type": "code",
   "execution_count": 37,
   "metadata": {},
   "outputs": [],
   "source": [
    "import numpy as np\n",
    "import matplotlib.pyplot as plt"
   ]
  },
  {
   "cell_type": "markdown",
   "metadata": {},
   "source": [
    "In this notebook, we will learn about an approach that tries to approach the integer hull of a polyhedron by iteratively introducing additional inequalities, cutting away fractional solutions."
   ]
  },
  {
   "cell_type": "markdown",
   "metadata": {},
   "source": [
    "Consider a rational IP $max\\{c^Tx|x  \\in P \\cap Z^n\\}$, and $c\\in Z^n$, $\\delta \\in Q$ such that $P\\subseteq \\{x|c^Tx\\leq \\delta\\}$.\n",
    "<br><br>\n",
    "Then we can write the integer hull as $P_I \\subseteq \\{x|c^Tx\\leq\\lfloor\\delta\\rfloor\\}$.\n",
    "<br><br>\n",
    "These inequality $c^Tx\\leq\\lfloor\\delta\\rfloor$ is called <b>Chvatal-Gomory inequality</b>.\n",
    "<br><br>\n",
    "We can use this inequality to define the <b>elementary closure</b> of $P$ by\n",
    "<br><br>\n",
    "$P^1:=\\{x|c^Tx\\leq\\lfloor\\delta\\rfloor\\forall c\\in Z^n,\\delta\\in Q: P\\subseteq\\{x|c^Tx\\leq\\delta\\} and P\\cap\\{x|c^Tx=\\delta\\}\\neq\\emptyset\\}$\n",
    "<br><br>\n",
    "Iteratively applying this closure to the original polyhedron $P$ yields the <b>Chvatal-Gomory closure</b> $P^t$ of rank t."
   ]
  },
  {
   "cell_type": "markdown",
   "metadata": {},
   "source": [
    "Two important results of these closures are:\n",
    "1. If $P$ is a non-empty polyhedron $P(A,b)\\neq\\emptyset$ induced by a TDI system $Ax\\leq b$ and A is integral $A \\in Z^{m \\times n}$<br>\n",
    "$\\Rightarrow$ The elementary closure $P^1$ of $P$ is also a polyhedron $P^1 = P(A, \\lfloor b \\rfloor)$\n",
    "2. For each rational polyhedron $P$ there $\\exists t \\in Z_{\\geq 0}: P^t = P_I$\n",
    "\n",
    "So we can eventually reach the integer hull of a polyhedron by iteratively getting its elementary closure!"
   ]
  },
  {
   "cell_type": "markdown",
   "metadata": {},
   "source": [
    "# Fractional Gomory Cuts"
   ]
  },
  {
   "cell_type": "markdown",
   "metadata": {},
   "source": [
    "Now let's see how we can use the above results in action.\n",
    "<br><br>\n",
    "Consider a rational IP $max\\{c^Tx|Ax=b, x\\geq 0, x\\in Z^n\\}$.\n",
    "Note that we can always observe $Ax=b$ from $Ax\\leq b$ by adding slack variables.\n",
    "<br><br>\n",
    "For example:"
   ]
  },
  {
   "cell_type": "code",
   "execution_count": 38,
   "metadata": {},
   "outputs": [
    {
     "data": {
      "image/png": "[encoded data removed]",
      "text/plain": [
       "<Figure size 432x288 with 1 Axes>"
      ]
     },
     "metadata": {
      "needs_background": "light"
     },
     "output_type": "display_data"
    }
   ],
   "source": [
    "c = np.matrix('0; 1') # Maximizing x_2\n",
    "A = np.matrix('4 1; -4 1; -1 0; 0 -1')\n",
    "b = np.matrix('4 0 0')\n",
    "plt.figure()\n",
    "plt.plot([0.0, 0.5, 1.0, 0.0], [0.0, 2.0, 0.0, 0.0])\n",
    "plt.scatter(0.5, 2.0, marker='x', color='red', s=100, label='optimum of LP relaxation')\n",
    "plt.xlim((0, 3))\n",
    "plt.ylim((0, 3))\n",
    "plt.grid()\n",
    "plt.legend()\n",
    "plt.show()"
   ]
  },
  {
   "cell_type": "markdown",
   "metadata": {},
   "source": [
    "Now, given our optimal solution $x^*=(0.5, 2)^T$ of the LP relaxation of the IP, we can introduce an additional inequality to cut it, if it is fractional.\n",
    "<br><br>\n",
    "Let $x$ be any feasible solution of the LP relaxation. Using the optimal basis $B$, we can write it as\n",
    "<br><br>\n",
    "$x_B = \\bar b - \\bar{A}_{\\bullet N} x_N:=A^{-1}_{\\bullet B}A_{\\bullet N}x_N$\n",
    "<br><br>\n",
    "It follows for any index $i$ of the solution that is not integral ($(x^*_B)_i\\notin Z$), that\n",
    "<br><br>\n",
    "$(x_B)_i = \\bar b_i - \\sum_{j\\in N} \\bar A_{ij} \\leq \\bar b_i - \\sum_{j \\in N} \\lfloor\\bar A_{ij}\\rfloor x_j$\n",
    "<br><br>\n",
    "For any integer solution $x\\in Z^n$ we can introduce <b>fractional Gormory cuts</b> that they are not violating, but $x^*$ does:\n",
    "<br><br>\n",
    "$(x_B)_i \\leq \\lfloor \\bar b_i \\rfloor - \\sum_{j \\in N} \\lfloor\\bar A_{ij}\\rfloor x_j$\n",
    "<br><br>\n",
    "Note: This cut can also be expressed by substracting it from the equation before, which yields\n",
    "<br><br>\n",
    "$\\sum_{j\\in N} f_{ij}x_j \\geq f_i$\n",
    "<br><br>\n",
    "where $f_i = \\bar b_i - \\lfloor \\bar b_i \\rfloor$ and $f_{ij} = \\bar A_{ij} - \\lfloor \\bar A_{ij} \\rfloor $\n",
    "<br><br>\n",
    "Let's see an iteration of applying these cuts in action:"
   ]
  },
  {
   "cell_type": "code",
   "execution_count": 39,
   "metadata": {},
   "outputs": [],
   "source": [
    "# First we need to add the slack variables, to get the form Ax=b (x>=0)\n",
    "A = np.matrix('4 1 1 0; -4 1 0 1')\n",
    "b = np.matrix('4; 0')\n",
    "\n",
    "# Optimal basis\n",
    "B = [0, 1]\n",
    "N = [2, 3]\n",
    "\n",
    "# Optimal solution\n",
    "x_opt = np.linalg.inv(A[:, B])@b"
   ]
  },
  {
   "cell_type": "markdown",
   "metadata": {},
   "source": [
    "So, for the first index of our optimal solution:\n",
    "<br><br>\n",
    "$(x_B)_1 = x_1 = \\bar b_1 - \\sum_{j\\in N} \\bar A_{1j}x_j = \\frac{1}{2} - \\frac{1}{8}x_3 + \\frac{1}{8}x_4$\n",
    "<br><br>\n",
    "We can get the cut from rounding down the coefficients:\n",
    "<br><br>\n",
    "$x_1 \\leq \\lfloor \\frac{1}{2} \\rfloor - \\lfloor \\frac{1}{8} \\rfloor x_3 - \\lfloor - \\frac{1}{8} \\rfloor x_4$\n",
    "$\\iff -3x_1 + x_2 \\leq 0$\n",
    "<br><br>\n",
    "This equation cuts off the former optimal solution $x^*$:"
   ]
  },
  {
   "cell_type": "code",
   "execution_count": 40,
   "metadata": {},
   "outputs": [
    {
     "data": {
      "image/png": "[encoded data removed]",
      "text/plain": [
       "<Figure size 432x288 with 1 Axes>"
      ]
     },
     "metadata": {
      "needs_background": "light"
     },
     "output_type": "display_data"
    }
   ],
   "source": [
    "plt.figure()\n",
    "plt.plot([0.0, 0.5, 1.0, 0.0], [0.0, 2.0, 0.0, 0.0])\n",
    "plt.plot([0.0, 1.0], [0.0, 3.0], linestyle='dashed', label='first cut')\n",
    "plt.plot([0.0, 1.0], [0.0, 0.0], linewidth=5, marker='o', color='green', label='Integer hull of P')\n",
    "plt.scatter(0.5, 2.0, marker='x', color='red', s=100, label='optimum of LP relaxation')\n",
    "plt.xlim((0, 3))\n",
    "plt.ylim((0, 3))\n",
    "plt.grid()\n",
    "plt.legend()\n",
    "plt.show()"
   ]
  },
  {
   "cell_type": "markdown",
   "metadata": {},
   "source": [
    "Applying this cut iteratively to the resulting polyhedra would eventually result in the integer hull, which is just the axis of $x_1$ from 0 to 1 in our example."
   ]
  },
  {
   "cell_type": "markdown",
   "metadata": {},
   "source": [
    "# Gomory's Mixed-Integer Cuts"
   ]
  },
  {
   "cell_type": "markdown",
   "metadata": {},
   "source": [
    "There is another form of cuts, that can achieve the desired result much faster.\n",
    "<br><br>\n",
    "The idea is to split the integral parts $f_i$ and $f_{ij}$ into two subsets $\\{f_{ij}\\leq f_i\\}$ and $\\{f_{ij} > f_i\\}$.\n",
    "<br><br>\n",
    "The equality for integral indices of the optimal solution becomes:\n",
    "<br><br>\n",
    "$(x_B)_i = \\bar b_i - \\sum_{j\\in N:f_{ij}\\leq f_i} \\bar A_{ij}x_j - \\sum_{j\\in N:f_{ij} > f_i} \\bar A_{ij}x_j$\n",
    "Then, the <b>Gomory mixed-integer cut</b> introduces\n",
    "<br><br>\n",
    "$\\sum_{j\\in N:f_{ij}\\leq f_i} \\frac{f_{ij}}{f_i}x_j + \\sum_{j\\in N:f_{ij}> f_i} \\frac{1-f_{ij}}{1-f_i}x_j \\geq 1$\n",
    "<br><br>\n",
    "Let's see what this does in our example:"
   ]
  },
  {
   "cell_type": "markdown",
   "metadata": {},
   "source": [
    "The integral parts of \n",
    "<br><br>\n",
    "$\\frac{1}{2} - \\frac{1}{8}x_3 + \\frac{1}{8}x_4$\n",
    "<br><br>\n",
    "are\n",
    "<br><br>\n",
    "$f_1=\\frac{1}{2}, f_{13}=\\frac{1}{8}, f_{14}=\\frac{7}{8}$\n",
    "<br><br>\n",
    "So the cut to introduce becomes\n",
    "<br><br>\n",
    "$\\frac{\\frac{1}{8}}{\\frac{1}{2}}x_3 + \\frac{1 - \\frac{7}{8}}{1 - \\frac{1}{2}}x_4 \\geq 1$\n",
    "$\\iff x_2\\leq 0$"
   ]
  },
  {
   "cell_type": "code",
   "execution_count": 43,
   "metadata": {},
   "outputs": [
    {
     "data": {
      "image/png": "[encoded data removed]",
      "text/plain": [
       "<Figure size 432x288 with 1 Axes>"
      ]
     },
     "metadata": {
      "needs_background": "light"
     },
     "output_type": "display_data"
    }
   ],
   "source": [
    "plt.figure()\n",
    "plt.plot([0.0, 0.5, 1.0, 0.0], [0.0, 2.0, 0.0, 0.0])\n",
    "plt.plot([0.0, 1.5], [0.0, 0.0], color='orange', linewidth=5, linestyle='dashed', label='first cut')\n",
    "plt.scatter(0.5, 2.0, marker='x', color='red', s=100, label='optimum of LP relaxation')\n",
    "plt.xlim((0, 3))\n",
    "plt.ylim((0, 3))\n",
    "plt.grid()\n",
    "plt.legend()\n",
    "plt.show()"
   ]
  },
  {
   "cell_type": "markdown",
   "metadata": {},
   "source": [
    "With this cut we immediately got our integer hull $P_I$."
   ]
  },
  {
   "cell_type": "code",
   "execution_count": null,
   "metadata": {},
   "outputs": [],
   "source": []
  }
 ],
 "metadata": {
  "kernelspec": {
   "display_name": "Python 3",
   "language": "python",
   "name": "python3"
  },
  "language_info": {
   "codemirror_mode": {
    "name": "ipython",
    "version": 3
   },
   "file_extension": ".py",
   "mimetype": "text/x-python",
   "name": "python",
   "nbconvert_exporter": "python",
   "pygments_lexer": "ipython3",
   "version": "3.8.5"
  }
 },
 "nbformat": 4,
 "nbformat_minor": 4
}
