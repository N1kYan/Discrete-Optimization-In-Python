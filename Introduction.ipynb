{
 "cells": [
  {
   "cell_type": "markdown",
   "metadata": {},
   "source": [
    "Welcome to this collection of notebooks on the concepts of discrepte optimization in python. The notebooks were build to give a compact overview about their adresses topics. I do not claim that they are without errors or complete. For the proofs of the used statements, please refer to the literature.\n",
    "\n",
    "Some knowledge about Linear Optimization is required to understand most parts of the notebooks."
   ]
  },
  {
   "cell_type": "markdown",
   "metadata": {},
   "source": [
    "# Discrete Optimization"
   ]
  },
  {
   "cell_type": "markdown",
   "metadata": {},
   "source": [
    "So what is it about? In discrete optimization one usually tries to obtain the optimal solution for a problem, where either all variables to optimize, or parts of them, are integral. \n",
    "\n",
    "This can usually be covered in a <b>Mixed Integer Program (MIP)</b>:\n",
    "\n",
    "$\n",
    "\\begin{equation}\n",
    "    \\begin{array}{ll@{}ll}\n",
    "        \\displaystyle \\text{max} & c^Tx &\\\\\n",
    "        \\displaystyle \\text{s.t} & Ax \\leq b &\\\\\n",
    "        \\displaystyle            & x \\in Z^p \\times R^{n-p}\n",
    "    \\end{array}\n",
    "\\end{equation}\n",
    "$\n",
    "\n",
    "Note: If all variables are integral ($p=n$), problems like this are often called <b>Integer Programs (IPs)</b>, or <b>Binary Programs (BPs)</b> in the case of binary variables $(x\\in\\{0,1\\}^n)$. "
   ]
  },
  {
   "cell_type": "markdown",
   "metadata": {},
   "source": [
    "The integrality conditions are what makes these problems hard to solve in general, because their optimum is not attained at a vertex of their corresponding polyhedron $P(A,b)$ anymore. This prevents <b>blind</b> application of the concepts known from Linear Optimization like the Simplex algorithm, Interior Point, or Ellipsoid methods."
   ]
  },
  {
   "cell_type": "markdown",
   "metadata": {},
   "source": [
    "But of course there is hope and the remaining notebooks list concepts on how to deal with that problem. For the full \"experience\" please stick with the order of notebooks, as specified here and in the [readme](README.md) file:\n",
    "1. [Introduction](Introduction.ipynb)\n",
    "2. [Fourier Motzkin Elimination](Fourier-Motzkin-Elimination.ipynb)\n",
    "3. [Affine Mappings and Polar Cones](Affine-Mappings-and-Polar-Cones.ipynb)\n",
    "4. [Interior and Exterior Representation](Interior-Exterior-Representations.ipynb)\n",
    "5. [The Integer Hull](The-Integer-Hull.ipynb)\n",
    "6. [Branch and Bound Method](Branch-And-Bound.ipynb)\n",
    "7. [Unimodularity and Dual Integrality](Unimodularity-and-Total-Dual-Integrality.ipynb)\n",
    "8. [Gomory Cuts](Fractional-and-Mixed-Integer-Gomory-Cuts.ipynb)\n",
    "9. [The Knapsack Problem](The-Knapsack-Problem.ipynb)\n",
    "10. [The Set-Packing Polytope](The-Set-Packing-Polytope.ipynb)\n",
    "11. [Lagrange Relaxation](Lagrange-Relaxation.ipynb)\n",
    "12. [Dantzig-Wolfe Decomposition](Dantzig-Wolfe-Decomposition.ipynb)\n",
    "13. [Bender's Decomposition](Benders-Decomposition.ipynb)\n",
    "14. [Heuristics](Heuristic-Methods.ipynb)\n",
    "15. [Other Heuristics](Other-Heuristics.ipynb)"
   ]
  },
  {
   "cell_type": "markdown",
   "metadata": {},
   "source": [
    "For the remainder of this notebook, I would like to show some\n",
    "\n",
    "# Examples"
   ]
  },
  {
   "cell_type": "markdown",
   "metadata": {},
   "source": [
    "### The Assignment / Perfect Matching Problem"
   ]
  },
  {
   "cell_type": "markdown",
   "metadata": {},
   "source": [
    "### The Knapsack Problem"
   ]
  },
  {
   "cell_type": "markdown",
   "metadata": {},
   "source": [
    "### The Set Packing / Partitioning / Covering Problem"
   ]
  },
  {
   "cell_type": "code",
   "execution_count": null,
   "metadata": {},
   "outputs": [],
   "source": []
  }
 ],
 "metadata": {
  "kernelspec": {
   "display_name": "Python 3",
   "language": "python",
   "name": "python3"
  },
  "language_info": {
   "codemirror_mode": {
    "name": "ipython",
    "version": 3
   },
   "file_extension": ".py",
   "mimetype": "text/x-python",
   "name": "python",
   "nbconvert_exporter": "python",
   "pygments_lexer": "ipython3",
   "version": "3.8.5"
  }
 },
 "nbformat": 4,
 "nbformat_minor": 4
}
