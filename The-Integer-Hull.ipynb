{
 "cells": [
  {
   "cell_type": "markdown",
   "metadata": {},
   "source": [
    "# The Integer Hull"
   ]
  },
  {
   "cell_type": "markdown",
   "metadata": {},
   "source": [
    "The <i>integer hull</i> of a polyhderon $P$ is given by the convex hull of $p$ integral and $n-p$ non-integral variables:<br>\n",
    "$P_{I,p} = conv(\\{x\\in P|x\\in Z^p \\times R^{n-p}\\})$. We mostly care about the special case $P_{I,n} =: P_I$."
   ]
  },
  {
   "cell_type": "markdown",
   "metadata": {},
   "source": [
    "We will need two characteristics of polyhedra in the remaining."
   ]
  },
  {
   "cell_type": "markdown",
   "metadata": {},
   "source": [
    "A polyhedron $P$ is called <i>rational</i> if $\\exists A\\in Q^{m\\times n}, b\\in Q^m : P=P(A,b)$."
   ]
  },
  {
   "cell_type": "markdown",
   "metadata": {},
   "source": [
    "A polyhedron $P$ is called <i>integral</i> if $P=P_I$. This means, all vertices are integer values.<br>\n",
    "An example of such a polyhedron and its integer hull looks like this:"
   ]
  },
  {
   "cell_type": "code",
   "execution_count": 52,
   "metadata": {},
   "outputs": [
    {
     "data": {
      "image/png": "[encoded data removed]",
      "text/plain": [
       "<Figure size 360x360 with 1 Axes>"
      ]
     },
     "metadata": {
      "needs_background": "light"
     },
     "output_type": "display_data"
    }
   ],
   "source": [
    "import matplotlib.pyplot as plt\n",
    "import numpy as np\n",
    "\n",
    "P = np.matrix('1.5 5.75; 2.75 1.75; 8.75 3.75; 9 7; 4.5 7.75; 1.5 5.75')\n",
    "\n",
    "P_I = np.matrix('3 2; 6 3; 8 4; 9 7; 4 7; 2 6; 2 5; 3 2')\n",
    "\n",
    "plt.figure(figsize=(5, 5))\n",
    "plt.plot(P[:, 0], P[:, 1], color='blue', alpha=0.25, label=\"P\")\n",
    "plt.plot(P_I[:, 0], P_I[:, 1], color='darkblue', label=r\"$P_I$\")\n",
    "\n",
    "plt.grid()\n",
    "plt.legend()\n",
    "#TODO\n",
    "#plt.xticks((np.linspace(0, 10, 1)))\n",
    "#plt.yticks((np.linspace(0, 10, 1)))\n",
    "plt.xlim((0, 10))\n",
    "plt.ylim((0, 10))\n",
    "plt.show()"
   ]
  },
  {
   "cell_type": "markdown",
   "metadata": {},
   "source": [
    "Some important properties of the above are:<br>\n",
    "- If $P_I$ is a polyhedron $\\Rightarrow$ $P_I$ is rational\n",
    "- If $P$ is a polytope $\\Rightarrow$ $P_I$ is a polytope\n",
    "- If $P$ is a rational polyhedral cone ($P=P(A,0)$ with $A\\in Q^{m\\times n}$) $\\Rightarrow$ $P=P_I$\n",
    "- If $P$ is a rational polyhedron $\\Rightarrow$ $P_I$ is a rational polyhedron"
   ]
  },
  {
   "cell_type": "code",
   "execution_count": null,
   "metadata": {},
   "outputs": [],
   "source": []
  }
 ],
 "metadata": {
  "kernelspec": {
   "display_name": "Python 3",
   "language": "python",
   "name": "python3"
  },
  "language_info": {
   "codemirror_mode": {
    "name": "ipython",
    "version": 3
   },
   "file_extension": ".py",
   "mimetype": "text/x-python",
   "name": "python",
   "nbconvert_exporter": "python",
   "pygments_lexer": "ipython3",
   "version": "3.8.5"
  }
 },
 "nbformat": 4,
 "nbformat_minor": 4
}
