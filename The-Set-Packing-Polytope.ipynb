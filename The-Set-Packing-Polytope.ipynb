{
 "cells": [
  {
   "cell_type": "markdown",
   "metadata": {},
   "source": [
    "Let's have a look at another special case of problems / binary programs, called the <b>set-packing problem</b>."
   ]
  },
  {
   "cell_type": "markdown",
   "metadata": {},
   "source": [
    "# The Set-Packing Problem"
   ]
  },
  {
   "cell_type": "markdown",
   "metadata": {},
   "source": [
    "Given $m$ items spread over $n$ sets, we want to choose non-overlapping sets using $x \\in \\{0,1\\}^n$, such that the corresponding values $c\\in R^n$ are maximized. That is, we have a pre-defined matrix $A \\in \\{0,1\\}^{m \\times n}$ that indicates whether item $m$ is included in set $n$. As we want to have non-overlapping sets (only take each item once), we can add the constraint $Ax\\leq 1$. This results in the binary program:"
   ]
  },
  {
   "cell_type": "markdown",
   "metadata": {},
   "source": [
    "$\n",
    "\\begin{equation}\n",
    "\\begin{array}{ll@{}ll}\n",
    "    \\text{max}  & c^Tx &\\\\\n",
    "    \\text{s.t.} & Ax\\leq 1 &\\\\\n",
    "                & x \\in \\{0, 1\\}^n &\\\\\n",
    "\\end{array}\n",
    "\\end{equation}\n",
    "$"
   ]
  },
  {
   "cell_type": "markdown",
   "metadata": {},
   "source": [
    "We can use a concept from graph-theory called a <b>conflict graph</b> defined as \n",
    "<br><br>\n",
    "$G := G(A) := ([n], \\{\\{j, l\\} \\subseteq [n]| \\exists i: A_{ij} + A_{il} = 2\\})$\n",
    "<br><br>\n",
    "to observe that every feasible set packing solution has to be a stable set in $G(A)$."
   ]
  },
  {
   "cell_type": "markdown",
   "metadata": {},
   "source": [
    "If $A_G$ defines the <b>edge-vertex incidence matrix</b> of $G$, we can define the <b>set-packing polytope</b> as\n",
    "<br><br>\n",
    "$P(A) = conv\\{x\\in\\{0,1\\}^n|A_Gx\\leq 1\\} =: P(G)$"
   ]
  },
  {
   "cell_type": "markdown",
   "metadata": {},
   "source": [
    "We can derive cuts for this polytope from the following results:\n",
    "<br><br>\n",
    "If a sub-graph $K=(V_K, E_K) \\subseteq G$ is an <b>odd cycle</b>\n",
    "<br><br>\n",
    "$\\displaystyle \\Rightarrow \\sum_{j_in V_K} x_j \\leq \\frac{|k| - 1}{2} \\>\\>\\>\\> \\forall x \\in P(G)$\n",
    "<br><br>\n",
    "This equality induces a facet of $P(G[V_K])$ if and only if $K$ is a <b>hole</b>, i.e., $G[V_K]=K$.\n",
    "<br><br>\n",
    "Finding such an odd cycle is equivalent to solving a <b>separation problem<b>."
   ]
  },
  {
   "cell_type": "markdown",
   "metadata": {},
   "source": [
    "If $P(G)$ is completely described by $A_Gx\\leq 1, x\\geq 0$ and the cut equality for all odd cycles, then $G$ is called <b>t-perfect</b>."
   ]
  },
  {
   "cell_type": "markdown",
   "metadata": {},
   "source": [
    "Another way to obtain cuts, is to look at <b>cliques</b> $C\\subseteq G$:\n",
    "<br><br>\n",
    "$\\displaystyle \\sum_{j\\in C} x_j \\leq 1 \\>\\>\\>\\> \\forall x\\in P(G)$\n",
    "<br><br>\n",
    "This inequality induces a facet of $P(G)$ if and only if $C$ is maximal, but the separation problem for it is NP-hard!"
   ]
  },
  {
   "cell_type": "markdown",
   "metadata": {},
   "source": [
    "A graph where $P(G)$ is fully described by the above inequalities and $x \\geq 0$ is called <b>perfect</b>."
   ]
  },
  {
   "cell_type": "code",
   "execution_count": null,
   "metadata": {},
   "outputs": [],
   "source": []
  }
 ],
 "metadata": {
  "kernelspec": {
   "display_name": "Python 3",
   "language": "python",
   "name": "python3"
  },
  "language_info": {
   "codemirror_mode": {
    "name": "ipython",
    "version": 3
   },
   "file_extension": ".py",
   "mimetype": "text/x-python",
   "name": "python",
   "nbconvert_exporter": "python",
   "pygments_lexer": "ipython3",
   "version": "3.8.5"
  }
 },
 "nbformat": 4,
 "nbformat_minor": 5
}
