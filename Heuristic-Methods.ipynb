{
 "cells": [
  {
   "cell_type": "markdown",
   "metadata": {},
   "source": [
    "This notebook explains the <b>GREEDY</b> algorithm, a heuristic search method, that could e.g. be used in the [Branch and Bound method](Branch-And-Bound.ipynb) to find an initial solution."
   ]
  },
  {
   "cell_type": "markdown",
   "metadata": {},
   "source": [
    "# The GREEDY algorithm"
   ]
  },
  {
   "cell_type": "markdown",
   "metadata": {},
   "source": [
    "Consider a combinatorial optimization problem $(E, \\mathcal{I} \\subseteq 2^E, c: E\\rightarrow R_{\\geq 0})$. The idea now is to incrementally find or improve a solution by adding the element that increases the objective the most/least in each step. In pseudocode:"
   ]
  },
  {
   "cell_type": "markdown",
   "metadata": {},
   "source": [
    "<b>GREEDY:</b>\n",
    "<br><br>\n",
    "$\n",
    "\\begin{equation}\n",
    "    \\begin{array}{ll@{}ll}\n",
    "        & \\text{order} \\>\\> E=\\{e_1, ..., e_m\\} \\>\\> \\text{such that} &\\\\\n",
    "        & \\>\\>\\>\\> \\text{either} \\>\\> c(e_1) \\geq c(e_2) \\geq ... \\geq c(e_m) & \\text{(GREEDY-max)} &\\\\\n",
    "        & \\>\\>\\>\\> \\text{or} \\>\\> c(e_1) \\leq c(e_2) \\leq ... \\leq c(e_m) & \\text{(GREEDY-min)} &\\\\\n",
    "        & S_G \\leftarrow \\emptyset &\\\\\n",
    "        & \\text{for} \\>\\> i \\leftarrow 1,...,m: &\\\\\n",
    "        & \\>\\>\\>\\> \\text{if} S_G \\cup \\{e_i\\} \\in \\mathcal{I}: &\\\\\n",
    "        & \\>\\>\\>\\>\\>\\>\\>\\>   S_G \\leftarrow S_G \\cup \\{e_i\\} &\\\\\n",
    "        & \\text{return} S_G\n",
    "    \\end{array}\n",
    "\\end{equation}\n",
    "$"
   ]
  },
  {
   "cell_type": "markdown",
   "metadata": {},
   "source": [
    "In order for this to work, good solutions of the problem need to be buildable in an iterative fashion. To qualify this, we can use the following concept."
   ]
  },
  {
   "cell_type": "markdown",
   "metadata": {},
   "source": [
    "# Independence Systems"
   ]
  },
  {
   "cell_type": "markdown",
   "metadata": {},
   "source": [
    "A system $(E, \\mathcal{I})$ is called an <b>independence system</b> if \n",
    "* $\\emptyset \\in \\mathcal{I} \\>\\> \\text{(Empty set is feasible)}$ \n",
    "* $A \\subseteq B \\in \\mathcal{I} \\Rightarrow A \\in \\mathcal{I} \\>\\> \\text{(A is \"independent\")}$\n",
    "\n",
    "$B \\in \\mathcal{I}$ is called a <b>basis</b> if no superset is feasible ($A \\supset B \\Rightarrow A \\notin \\mathcal{I}$).\n",
    "\n",
    "Observe that if $(E, \\mathcal{I})$ is an independence system $\\Rightarrow$ GREEDY computes a basis.\n",
    "\n",
    "But still, the soultion quality might be arbitrarily bad. To also qualify this, we need another concept."
   ]
  },
  {
   "cell_type": "markdown",
   "metadata": {},
   "source": [
    "# Matroids"
   ]
  },
  {
   "cell_type": "markdown",
   "metadata": {},
   "source": [
    "Consider an independence system $(E, \\mathcal{I})$, an objective function $c: E \\rightarrow R_{\\geq 0}$ and the set of all bases of a subset $F$ of all entities $E$, \n",
    "\n",
    "$\\mathcal{B}(F\\subseteq E) := \\{B \\subseteq F | B\\in \\mathcal{I}, B \\subset A \\subseteq F \\Rightarrow A \\notin \\mathcal{I}\\}$"
   ]
  },
  {
   "cell_type": "markdown",
   "metadata": {},
   "source": [
    "The <b>rank</b> of such a subset $F\\subseteq E$ is the maximal cardinality that its bases can have:\n",
    "\n",
    "$r(F) := \\text{max}_{B \\in \\mathcal{B}(F)} |B|$"
   ]
  },
  {
   "cell_type": "markdown",
   "metadata": {},
   "source": [
    "The <b>lower rank</b> on the other hand is the minimal cardinality:\n",
    "\n",
    "$\\varphi(F) := \\text{min}_{B \\in \\mathcal{B}(F)} |B|$"
   ]
  },
  {
   "cell_type": "markdown",
   "metadata": {},
   "source": [
    "The <b>rank quotient</b> is now defined by\n",
    "\n",
    "$q(E, \\mathcal{I}) := \\text{min}_{F\\subseteq E} \\frac{\\varphi(F)}{r(F)} \\leq 1$"
   ]
  },
  {
   "cell_type": "markdown",
   "metadata": {},
   "source": [
    "And finally, $(E, \\mathcal{I})$ is called a <b>matroid</b> if\n",
    "\n",
    "$\\forall F\\subseteq E: r(F) = \\varphi(F)$"
   ]
  },
  {
   "cell_type": "markdown",
   "metadata": {},
   "source": [
    "Using those definitions, we can qualify the quality for the solution $S_G$ found by GREEDY for the case of maximization over the independence system:\n",
    "\n",
    "$\\frac{c(S_G)}{c(I^*)} \\geq q(E, \\mathcal{I})$\n",
    "\n",
    "And for the case of minimization over the bases:\n",
    "\n",
    "$\\frac{c(S_G)}{c(I^*)} \\geq \\frac{1}{q(E, \\mathcal{I})}$\n",
    "\n",
    "It follows that if $(E, \\mathcal{I})$ is a matroid $\\iff$ GREEDY computes an optimal solution $\\forall c: E \\rightarrow R_{\\geq 0}$.\n",
    "\n",
    "As an example here holds the <b>spanning tree problem</b> where GEEDY-min is equal to Kruskal's approach and computes the optimum solution."
   ]
  },
  {
   "cell_type": "markdown",
   "metadata": {},
   "source": [
    "One can also show that if we have multiple matroids $(E, \\mathcal{I}_1), ..., (E, \\mathcal{I}_k)$, their intersection $(E, \\mathcal{I}) := (E, \\bigcap_{i=1}^k$ is also an independence system with $q(E, \\mathcal{I})\\geq \\frac{1}{k}$. \n",
    "\n",
    "This result can be used to show that GREEDY-max is able to compute a <i>2-approximation</i> for the <b>bipartite matching problem</b>."
   ]
  },
  {
   "cell_type": "markdown",
   "metadata": {},
   "source": [
    "Note: It is very important to mention, that, despite its popularity in practice, GREEDY is only able to compute arbitrarily bad solutions in a lot of problems, e.g.:\n",
    "1. [The Stable Set Problem](The-Set-Packing-Polytope.ipynb) (GREEDY-max)\n",
    "2. [The Knapsack Problem](The-Knapsack-Problem.ipynb) (GREEDY-max)\n",
    "3. The traveling salesperson problem  (GREEDY-min)\n",
    "4. ..."
   ]
  },
  {
   "cell_type": "code",
   "execution_count": null,
   "metadata": {},
   "outputs": [],
   "source": []
  }
 ],
 "metadata": {
  "kernelspec": {
   "display_name": "Python 3",
   "language": "python",
   "name": "python3"
  },
  "language_info": {
   "codemirror_mode": {
    "name": "ipython",
    "version": 3
   },
   "file_extension": ".py",
   "mimetype": "text/x-python",
   "name": "python",
   "nbconvert_exporter": "python",
   "pygments_lexer": "ipython3",
   "version": "3.8.5"
  }
 },
 "nbformat": 4,
 "nbformat_minor": 4
}
