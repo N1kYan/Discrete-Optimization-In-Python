{
 "cells": [
  {
   "cell_type": "markdown",
   "metadata": {},
   "source": [
    "# Interior and Exterior Representations"
   ]
  },
  {
   "cell_type": "markdown",
   "metadata": {},
   "source": [
    "Let's first have a look at Minkowski's theorem:\n",
    "#### Minkowski's Theorem\n",
    "$\\forall A \\>\\> \\exists B$ and $\\forall B \\>\\> \\exists A$:<br>\n",
    "$P(A,0)=cone(B)$"
   ]
  },
  {
   "cell_type": "markdown",
   "metadata": {},
   "source": [
    "This theorem can be extended from polyhedral cones to general polyhedra:\n",
    "#### Representation Theorem\n",
    "$\\forall A,b \\>\\> \\exists V,E: P(A,b) = conv(V) + cone(E)$<br>"
   ]
  },
  {
   "cell_type": "markdown",
   "metadata": {},
   "source": [
    "The above yield the definitions of interior and exterior representations of polyhedra:\n",
    "#### Exterior Representation\n",
    "A polyhedron is the intersaction of halfspaces: $P(A,b)=\\cap_i\\{x: A_{i\\bullet} x \\leq b_i\\}$.\n",
    "#### Interior Representation\n",
    "A polyhedron is the sum of its vertices (convex hull) plus its extreme rays (conic hull): $P = conv(V) + cone(E)$"
   ]
  },
  {
   "cell_type": "markdown",
   "metadata": {},
   "source": [
    "# Interior $\\rightarrow$ Exterior "
   ]
  },
  {
   "cell_type": "markdown",
   "metadata": {},
   "source": [
    "This section describes a method on how to observe the exterior representation of a polyhedron, given its interior representation."
   ]
  },
  {
   "cell_type": "markdown",
   "metadata": {},
   "source": [
    "Lets look at an example:<br><br>\n",
    "Consider a set of vertices $V:=\\{\\}$ and a set of extreme rays $E:=\\{\\}$.\n",
    "Then, $P=conv(V)+cone(E)$ looks like this:"
   ]
  },
  {
   "cell_type": "code",
   "execution_count": 1,
   "metadata": {},
   "outputs": [],
   "source": [
    "import numpy as np\n",
    "import matplotlib.pyplot as plt"
   ]
  },
  {
   "cell_type": "code",
   "execution_count": 2,
   "metadata": {},
   "outputs": [
    {
     "data": {
      "text/plain": [
       "matrix([[0.  ],\n",
       "        [1.  ],\n",
       "        [1.75],\n",
       "        [2.  ],\n",
       "        [0.  ]])"
      ]
     },
     "execution_count": 2,
     "metadata": {},
     "output_type": "execute_result"
    }
   ],
   "source": [
    "vertices = np.matrix('0 0; 1 2; 1.75 1.75; 2 1; 0 0')\n",
    "vertices[:, 0]"
   ]
  },
  {
   "cell_type": "code",
   "execution_count": 3,
   "metadata": {},
   "outputs": [],
   "source": [
    "rays = np.matrix('3 2; 2 3')"
   ]
  },
  {
   "cell_type": "code",
   "execution_count": 11,
   "metadata": {},
   "outputs": [
    {
     "name": "stdout",
     "output_type": "stream",
     "text": [
      "[[0. 0.]]\n",
      "[[1. 2.]]\n",
      "[[1.75 1.75]]\n",
      "[[2. 1.]]\n",
      "[[0. 0.]]\n"
     ]
    },
    {
     "data": {
      "image/png": "[encoded data removed]",
      "text/plain": [
       "<Figure size 432x288 with 1 Axes>"
      ]
     },
     "metadata": {
      "needs_background": "light"
     },
     "output_type": "display_data"
    }
   ],
   "source": [
    "plt.figure()\n",
    "plt.grid()\n",
    "plt.plot(vertices[:, 0], vertices[:, 1], label=\"conv(V)\")\n",
    "for v in range(vertices.shape[0]):\n",
    "    print(vertices[v])\n",
    "    for r in range(rays.shape[0]):\n",
    "        plt.plot([vertices[v, 0], vertices[v, 0]+rays[r, 0]],\n",
    "                 [vertices[v, 1], vertices[v, 1] + rays[r, 1]],\n",
    "                 color='red')\n",
    "plt.xlim((0, 5))\n",
    "plt.ylim((0, 5))\n",
    "plt.legend()\n",
    "plt.show()"
   ]
  },
  {
   "cell_type": "markdown",
   "metadata": {},
   "source": [
    "Given the interior representation $P = conv(\\{v^1,...,v^k\\} + cone(\\{r^1,...,r^l\\})$, we can obtain the exterior representation using the following procedure:\n",
    "<br><br>\n",
    "1. Take any arbitrary point $x$ from $P$. We have:\n",
    "<br><br>\n",
    "$\n",
    "\\begin{equation}\n",
    "    \\begin{array}{ll@{}ll}\n",
    "    \\displaystyle \\>\\>\\>\\> x & = \\>\\> \\sum_{i=1}^k \\lambda_i  v_i + \\sum_{i=1}^l \\mu_i r_i &\\\\\n",
    "    \\displaystyle \\sum_{i=1}^k \\lambda_i & = \\>\\> 1 &\\\\\n",
    "    \\lambda_i & \\geq \\>\\> 0 \\>\\> (i=1,...,k) &\\\\\n",
    "    \\mu_i & \\geq \\>\\> 0 \\>\\> (i=1,...,l) &\\\\\n",
    "    \\end{array}\n",
    "\\end{equation}\n",
    "$\n",
    "<br><br>\n",
    "2. These equalities and inequalities can all be summed up in a single sytem of linear inequalities:\n",
    "<br><br>\n",
    "$\\tilde A x \\leq \\tilde b$\n",
    "<br><br>\n",
    "3. Then we can use the [Fourier-Motzkin-Elimination](Fourier-Motzkin-Elimination.ipynb) to project out all the variables $\\lambda_i$ and $\\mu_i$ and obtain the exterior description of our polyhedron:\n",
    "<br><br>\n",
    "$Ax\\leq b$"
   ]
  },
  {
   "cell_type": "markdown",
   "metadata": {},
   "source": [
    "# Exterior $\\rightarrow$ Interior"
   ]
  },
  {
   "cell_type": "markdown",
   "metadata": {},
   "source": [
    "So how can we go the other way round and obtain the interior description from the exterior?\n",
    "<br><br>\n",
    "Here is how:\n",
    "<br><br>\n",
    "1. Convert the exterior description $P(A,b)$ of the polyhedron to the exterior description of a polyhedral cone $C = P(A,0)$. Have a look at [this](Affine-Mappings-and-Polar-Cones.ipynb) notebook for details on that.\n",
    "<br><br>\n",
    "2. For $C$, we know that a matrix $B$ exists, such that $C=cone(B)$. We can construct this matrix from the exterior description of $C$ using the [Fourier-Motzkin-Elimination](Fourier-Motzkin-Elimination.ipynb).\n",
    "<br><br>\n",
    "3. Then we can scale the inner description $B$ of $C$ and read off the interior description of tbe original polyhedron."
   ]
  },
  {
   "cell_type": "code",
   "execution_count": null,
   "metadata": {},
   "outputs": [],
   "source": []
  }
 ],
 "metadata": {
  "kernelspec": {
   "display_name": "Python 3",
   "language": "python",
   "name": "python3"
  },
  "language_info": {
   "codemirror_mode": {
    "name": "ipython",
    "version": 3
   },
   "file_extension": ".py",
   "mimetype": "text/x-python",
   "name": "python",
   "nbconvert_exporter": "python",
   "pygments_lexer": "ipython3",
   "version": "3.8.5"
  }
 },
 "nbformat": 4,
 "nbformat_minor": 2
}
