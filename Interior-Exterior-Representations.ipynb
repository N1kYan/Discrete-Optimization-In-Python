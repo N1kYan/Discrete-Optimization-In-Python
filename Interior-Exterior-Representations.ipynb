{
 "cells": [
  {
   "cell_type": "markdown",
   "metadata": {},
   "source": [
    "# Interior and Exterior Representations"
   ]
  },
  {
   "cell_type": "markdown",
   "metadata": {},
   "source": [
    "Let's first have a look at Minkowski's theorem:\n",
    "### Minkowski's Theorem\n",
    "$\\forall A \\exists B$ and $\\forall B \\exists A$:<br>\n",
    "$P(A,0)=cone(B)$"
   ]
  },
  {
   "cell_type": "markdown",
   "metadata": {},
   "source": [
    "This theorem can be extended from polyhedral cones to general polyhedra:\n",
    "### Representation Theorem\n",
    "$\\forall A,b \\exists V,E: P(A,b) = conv(V) + cone(E)$<br>"
   ]
  },
  {
   "cell_type": "markdown",
   "metadata": {},
   "source": [
    "The above yield the definitions of interior and exterior representations of polyhedra:\n",
    "### Exterior Representation\n",
    "A polyhedron is the intersaction of halfspaces: $P(A,b)=\\cap_i\\{x: A_{i\\bullet} x \\leq b_i\\}$.\n",
    "### Interior Representation\n",
    "A polyhedron is the sum of its vertices (convex hull) plus its extreme rays (conic hull): $P = conv(V) + cone(E)$"
   ]
  },
  {
   "cell_type": "code",
   "execution_count": null,
   "metadata": {},
   "outputs": [],
   "source": []
  }
 ],
 "metadata": {
  "kernelspec": {
   "display_name": "Python 3",
   "language": "python",
   "name": "python3"
  },
  "language_info": {
   "codemirror_mode": {
    "name": "ipython",
    "version": 3
   },
   "file_extension": ".py",
   "mimetype": "text/x-python",
   "name": "python",
   "nbconvert_exporter": "python",
   "pygments_lexer": "ipython3",
   "version": "3.7.0"
  }
 },
 "nbformat": 4,
 "nbformat_minor": 2
}
