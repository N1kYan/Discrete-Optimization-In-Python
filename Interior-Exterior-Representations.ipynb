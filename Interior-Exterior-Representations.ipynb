{
 "cells": [
  {
   "cell_type": "markdown",
   "metadata": {},
   "source": [
    "# Interior and Exterior Representations"
   ]
  },
  {
   "cell_type": "markdown",
   "metadata": {},
   "source": [
    "Let's first have a look at Minkowski's theorem:\n",
    "#### Minkowski's Theorem\n",
    "$\\forall A \\exists B$ and $\\forall B \\exists A$:<br>\n",
    "$P(A,0)=cone(B)$"
   ]
  },
  {
   "cell_type": "markdown",
   "metadata": {},
   "source": [
    "This theorem can be extended from polyhedral cones to general polyhedra:\n",
    "#### Representation Theorem\n",
    "$\\forall A,b \\exists V,E: P(A,b) = conv(V) + cone(E)$<br>"
   ]
  },
  {
   "cell_type": "markdown",
   "metadata": {},
   "source": [
    "The above yield the definitions of interior and exterior representations of polyhedra:\n",
    "#### Exterior Representation\n",
    "A polyhedron is the intersaction of halfspaces: $P(A,b)=\\cap_i\\{x: A_{i\\bullet} x \\leq b_i\\}$.\n",
    "#### Interior Representation\n",
    "A polyhedron is the sum of its vertices (convex hull) plus its extreme rays (conic hull): $P = conv(V) + cone(E)$"
   ]
  },
  {
   "cell_type": "markdown",
   "metadata": {},
   "source": [
    "# Interior $\\rightarrow$ Exterior "
   ]
  },
  {
   "cell_type": "markdown",
   "metadata": {},
   "source": [
    "This section describes a method on how to observe the exterior representation of a polyhedron, given its interior representation."
   ]
  },
  {
   "cell_type": "markdown",
   "metadata": {},
   "source": [
    "Lets look at an example:<br><br>\n",
    "Consider a set of vertices $V:=\\{\\}$ and a set of extreme rays $E:=\\{\\}$.\n",
    "Then, $P=conv(V)+cone(E)$ looks like this:"
   ]
  },
  {
   "cell_type": "code",
   "execution_count": 34,
   "metadata": {},
   "outputs": [],
   "source": [
    "import numpy as np\n",
    "import matplotlib.pyplot as plt"
   ]
  },
  {
   "cell_type": "code",
   "execution_count": 35,
   "metadata": {},
   "outputs": [
    {
     "data": {
      "text/plain": [
       "matrix([[0.  ],\n",
       "        [1.  ],\n",
       "        [1.75],\n",
       "        [2.  ],\n",
       "        [0.  ]])"
      ]
     },
     "execution_count": 35,
     "metadata": {},
     "output_type": "execute_result"
    }
   ],
   "source": [
    "vertices = np.matrix('0 0; 1 2; 1.75 1.75; 2 1; 0 0')\n",
    "vertices[:, 0]"
   ]
  },
  {
   "cell_type": "code",
   "execution_count": 36,
   "metadata": {},
   "outputs": [],
   "source": [
    "rays = np.matrix('3 2; 2 3')"
   ]
  },
  {
   "cell_type": "code",
   "execution_count": 37,
   "metadata": {},
   "outputs": [
    {
     "data": {
      "image/png": "[encoded data removed]",
      "text/plain": [
       "<Figure size 432x288 with 1 Axes>"
      ]
     },
     "metadata": {
      "needs_background": "light"
     },
     "output_type": "display_data"
    }
   ],
   "source": [
    "plt.figure()\n",
    "plt.grid()\n",
    "plt.plot(vertices[:, 0], vertices[:, 1])\n",
    "plt.xlim((0, 5))\n",
    "plt.ylim((0, 5))\n",
    "plt.show()"
   ]
  },
  {
   "cell_type": "code",
   "execution_count": null,
   "metadata": {},
   "outputs": [],
   "source": []
  }
 ],
 "metadata": {
  "kernelspec": {
   "display_name": "Python 3",
   "language": "python",
   "name": "python3"
  },
  "language_info": {
   "codemirror_mode": {
    "name": "ipython",
    "version": 3
   },
   "file_extension": ".py",
   "mimetype": "text/x-python",
   "name": "python",
   "nbconvert_exporter": "python",
   "pygments_lexer": "ipython3",
   "version": "3.7.0"
  }
 },
 "nbformat": 4,
 "nbformat_minor": 2
}
