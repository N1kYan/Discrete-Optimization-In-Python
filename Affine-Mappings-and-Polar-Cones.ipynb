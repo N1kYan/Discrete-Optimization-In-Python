{
 "cells": [
  {
   "cell_type": "markdown",
   "metadata": {},
   "source": [
    "This notebook will be about affine mappings of polyhedra and polar cones, a special type of polyhedra."
   ]
  },
  {
   "cell_type": "markdown",
   "metadata": {},
   "source": [
    "# Affine Mappings\n",
    "\n",
    "An affine mapping maps a vector $x \\in K^m$ by $f(x) = Dx + d$, where $D \\in K^{m\\times n}$ and $d \\in K^n$.<br>\n",
    "One can show that such a mapping of a polyhedron is again a polyhedron. <br><br>\n",
    "Further, all of the following entities are polyhedra, as they are all affine mappings:<br>\n",
    "* The linear hull $lin(A)=\\{A\\lambda|\\lambda \\in K^n\\}$\n",
    "* The affine hull $aff(A)=\\{A\\lambda|1^T\\lambda=1\\}$\n",
    "* The conic hull $cone(A)=\\{A\\lambda|\\lambda\\in K^n, \\lambda\\geq 0\\}$\n",
    "* The convex hull $conv(A)=\\{A\\lambda|1^T\\lambda=1, \\lambda\\geq 0\\}$ \n",
    "\n",
    "For all $A \\in K^{m\\times n}$<br><br>\n",
    "The same holds for the sum of two polyhedra $P^1$ and $P^2$, which is also an affine mapping.<br><br>\n",
    "An important consequence of this is that $conv(A) + cone(B)$ is also a polyhedron, where $B$ is given by $cone(A) = P(B, 0)$<br>\n"
   ]
  },
  {
   "cell_type": "markdown",
   "metadata": {},
   "source": [
    "# Polar Cones\n",
    "The polar cone of a set S is given by $S°=\\{y|y^Tx\\leq 0,\\forall x\\in S\\}$.<br>\n",
    "These are all vectors $y$ that form an obtuse angle, i.e. $\\geq \\frac{\\pi}{2}$, with all columns of $A$.<br>\n",
    "A special case of this, the orthogonal complement, is given by $S^\\perp=\\{y|y^Tx=0,\\forall x \\in S\\}$.<br>\n",
    "All these vectors $y$ are forming a perpendicular angle $= \\frac{\\pi}{2}$ with the columns.<br>\n",
    "Note that $S^\\perp \\subseteq S°$."
   ]
  },
  {
   "cell_type": "markdown",
   "metadata": {},
   "source": [
    "An important conclusion using these definitions is, that first, we have $cone(A) = P(A^T, 0)°$,\n",
    "and we can use the Farkas Lemma to show that the RHS $b$ of a system $\\{x|Ax=b, x\\geq0\\}$ has to fullfill $b\\in cone(A)$ in order to be feasible for it."
   ]
  },
  {
   "cell_type": "markdown",
   "metadata": {},
   "source": [
    "# Example"
   ]
  },
  {
   "cell_type": "code",
   "execution_count": 11,
   "metadata": {},
   "outputs": [],
   "source": [
    "import numpy as np\n",
    "import matplotlib.pyplot as plt"
   ]
  },
  {
   "cell_type": "markdown",
   "metadata": {},
   "source": [
    "Consider the matrix $A=\\begin{pmatrix} -3 & 2\\\\ 1 & -2 \\end{pmatrix}$"
   ]
  },
  {
   "cell_type": "code",
   "execution_count": 12,
   "metadata": {},
   "outputs": [
    {
     "name": "stdout",
     "output_type": "stream",
     "text": [
      "(2, 2)\n"
     ]
    }
   ],
   "source": [
    "A = np.matrix(\"-3 2; 1 -2\")\n",
    "print(A.shape)"
   ]
  },
  {
   "cell_type": "markdown",
   "metadata": {},
   "source": [
    "Recall from above that its conic hull is given by the conic hull of its columns:<br>\n",
    "$cone(A) = cone(\\{\\begin{pmatrix}-3\\\\1\\end{pmatrix}, \\begin{pmatrix}2\\\\-2\\end{pmatrix}\\})$"
   ]
  },
  {
   "cell_type": "code",
   "execution_count": 13,
   "metadata": {},
   "outputs": [
    {
     "name": "stdout",
     "output_type": "stream",
     "text": [
      "(2, 1)\n",
      "(2, 1)\n"
     ]
    }
   ],
   "source": [
    "cone_A = [A[:,j] for j in range(A.shape[1])]\n",
    "print(cone_A[0].shape)\n",
    "print(cone_A[1].shape)"
   ]
  },
  {
   "cell_type": "code",
   "execution_count": 63,
   "metadata": {},
   "outputs": [
    {
     "ename": "TypeError",
     "evalue": "fill_between() missing 1 required positional argument: 'y1'",
     "output_type": "error",
     "traceback": [
      "\u001b[1;31m---------------------------------------------------------------------------\u001b[0m",
      "\u001b[1;31mTypeError\u001b[0m                                 Traceback (most recent call last)",
      "\u001b[1;32m<ipython-input-63-3720db0e83e4>\u001b[0m in \u001b[0;36m<module>\u001b[1;34m()\u001b[0m\n\u001b[0;32m      7\u001b[0m     \u001b[0marrows\u001b[0m\u001b[1;33m.\u001b[0m\u001b[0mappend\u001b[0m\u001b[1;33m(\u001b[0m\u001b[0mplt\u001b[0m\u001b[1;33m.\u001b[0m\u001b[0marrow\u001b[0m\u001b[1;33m(\u001b[0m\u001b[0mx\u001b[0m\u001b[1;33m=\u001b[0m\u001b[1;36m0\u001b[0m\u001b[1;33m,\u001b[0m \u001b[0my\u001b[0m\u001b[1;33m=\u001b[0m\u001b[1;36m0\u001b[0m\u001b[1;33m,\u001b[0m \u001b[0mdx\u001b[0m\u001b[1;33m=\u001b[0m\u001b[0mvec\u001b[0m\u001b[1;33m[\u001b[0m\u001b[1;36m0\u001b[0m\u001b[1;33m,\u001b[0m\u001b[1;36m0\u001b[0m\u001b[1;33m]\u001b[0m\u001b[1;33m,\u001b[0m \u001b[0mdy\u001b[0m\u001b[1;33m=\u001b[0m\u001b[0mvec\u001b[0m\u001b[1;33m[\u001b[0m\u001b[1;36m1\u001b[0m\u001b[1;33m,\u001b[0m\u001b[1;36m0\u001b[0m\u001b[1;33m]\u001b[0m\u001b[1;33m,\u001b[0m \u001b[0mcolor\u001b[0m\u001b[1;33m=\u001b[0m\u001b[1;34m\"blue\"\u001b[0m\u001b[1;33m)\u001b[0m\u001b[1;33m)\u001b[0m\u001b[1;33m\u001b[0m\u001b[0m\n\u001b[0;32m      8\u001b[0m     \u001b[1;31m#plt.quiver(vec[1,0], vec[0,0], scale=10)\u001b[0m\u001b[1;33m\u001b[0m\u001b[1;33m\u001b[0m\u001b[0m\n\u001b[1;32m----> 9\u001b[1;33m \u001b[0mplt\u001b[0m\u001b[1;33m.\u001b[0m\u001b[0mfill_between\u001b[0m\u001b[1;33m(\u001b[0m\u001b[1;33m[\u001b[0m\u001b[0mnp\u001b[0m\u001b[1;33m.\u001b[0m\u001b[0marange\u001b[0m\u001b[1;33m(\u001b[0m\u001b[1;36m0\u001b[0m\u001b[1;33m,\u001b[0m \u001b[1;36m10\u001b[0m\u001b[1;33m)\u001b[0m\u001b[1;33m,\u001b[0m \u001b[1;36m0\u001b[0m\u001b[1;33m,\u001b[0m \u001b[0marrows\u001b[0m\u001b[1;33m[\u001b[0m\u001b[1;36m0\u001b[0m\u001b[1;33m]\u001b[0m\u001b[1;33m]\u001b[0m\u001b[1;33m)\u001b[0m\u001b[1;33m\u001b[0m\u001b[0m\n\u001b[0m\u001b[0;32m     10\u001b[0m \u001b[0mplt\u001b[0m\u001b[1;33m.\u001b[0m\u001b[0mshow\u001b[0m\u001b[1;33m(\u001b[0m\u001b[1;33m)\u001b[0m\u001b[1;33m\u001b[0m\u001b[0m\n",
      "\u001b[1;31mTypeError\u001b[0m: fill_between() missing 1 required positional argument: 'y1'"
     ]
    },
    {
     "data": {
      "image/png": "[encoded data removed]",
      "text/plain": [
       "<Figure size 432x288 with 1 Axes>"
      ]
     },
     "metadata": {
      "needs_background": "light"
     },
     "output_type": "display_data"
    }
   ],
   "source": [
    "plt.figure()\n",
    "plt.grid()\n",
    "plt.xlim((-5, 5))\n",
    "plt.ylim(-5, 5)\n",
    "arrows = []\n",
    "for vec in cone_A:\n",
    "    arrows.append(plt.arrow(x=0, y=0, dx=vec[0,0], dy=vec[1,0], color=\"blue\"))\n",
    "    #plt.quiver(vec[1,0], vec[0,0], scale=10)\n",
    "#plt.fill_between([np.arange(0, 10), 0, arrows[0]])\n",
    "plt.show()\n"
   ]
  },
  {
   "cell_type": "code",
   "execution_count": null,
   "metadata": {},
   "outputs": [],
   "source": []
  }
 ],
 "metadata": {
  "kernelspec": {
   "display_name": "Python 3",
   "language": "python",
   "name": "python3"
  },
  "language_info": {
   "codemirror_mode": {
    "name": "ipython",
    "version": 3
   },
   "file_extension": ".py",
   "mimetype": "text/x-python",
   "name": "python",
   "nbconvert_exporter": "python",
   "pygments_lexer": "ipython3",
   "version": "3.7.0"
  }
 },
 "nbformat": 4,
 "nbformat_minor": 2
}
