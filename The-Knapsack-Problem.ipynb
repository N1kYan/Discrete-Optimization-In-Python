{
 "cells": [
  {
   "cell_type": "markdown",
   "id": "comfortable-celtic",
   "metadata": {},
   "source": [
    "This notebook covers (lol) a special type of problems / binary programs, called the <b>knapsack problem</b>."
   ]
  },
  {
   "cell_type": "markdown",
   "id": "respiratory-posting",
   "metadata": {},
   "source": [
    "# The Knapsack Problem"
   ]
  },
  {
   "cell_type": "markdown",
   "id": "automotive-institution",
   "metadata": {},
   "source": [
    "This problem deals with the question:\n",
    "<br><br>\n",
    "If we have $n$ items, a set of weights $a_i \\in Z_{\\geq 0}, i\\in [n]$, a corresponding set of values $c_i \\in Z_{\\geq 0}, i \\in [n]$, and a maximum weight that we can carry $\\beta \\in Z_{\\geq 0}$, what is the choice of items to take (Binary variables: Take or leave) $x_i \\in \\{0,1\\}, i \\in [n]$, such that the chosen items have maximal value?\n",
    "<br><br>\n",
    "This can be formulated as a binary program:\n",
    "<br><br>\n",
    "$\n",
    "\\begin{equation}\n",
    "    \\begin{array}{ll@{}ll}\n",
    "        \\text{max}  & \\displaystyle c^Tx = \\sum_{i \\in [n]} c_i x_i &\\\\\n",
    "        \\text{s.t.} & \\displaystyle a^Tx = \\sum_{i \\in [n]} a_i x_i \\leq \\beta &\\\\\n",
    "                    & \\displaystyle x \\in \\{0, 1\\}^n\n",
    "    \\end{array}\n",
    "\\end{equation}\n",
    "$"
   ]
  },
  {
   "cell_type": "markdown",
   "id": "legal-purse",
   "metadata": {},
   "source": [
    "A <b>cover</b> defines a subset $C \\subseteq [n]$ if it exceeds our weight limit:\n",
    "<br><br>\n",
    "$\\displaystyle \\sum_{i \\in [n]} a_i > \\beta$\n",
    "<br><br>\n",
    "Such a cover is called <b>minimal</b> if no subset $C'\\subseteq C$ of it is also a cover.\n",
    "<br><br>\n",
    "Using these cover sets, we can define <b>cover inequalities</b> that would need to hold at a feasible integer solution, but not at solutions of the LP relaxations of the binary program:\n",
    "<br><br>\n",
    "$\\displaystyle \\sum_{i \\in C} x_i \\leq |C|-1 \\>\\>\\>\\> \\forall x \\in R_I$"
   ]
  },
  {
   "cell_type": "markdown",
   "id": "present-headline",
   "metadata": {},
   "source": [
    "It can be shown that such a cover inequality induces a facet of \n",
    "<br><br>\n",
    "$\\displaystyle R_I(C) := conv\\{x \\in \\{0,1\\}^C|\\sum_{i\\in C}a_i x_i \\leq \\beta\\}$"
   ]
  },
  {
   "cell_type": "markdown",
   "id": "considerable-assessment",
   "metadata": {},
   "source": [
    "Using this, we can obtain a special cut for the knapsack polytope, a so called <b>lifted inequality</b>.\n",
    "<br><br>\n",
    "Let $d_k$ for some index not in the cover ($k\\notin C$) be the largest possible weight, such that:\n",
    "<br><br>\n",
    "$\\displaystyle \\sum_{i \\in C} x_i + d_k x_k\\leq |C|-1 \\>\\>\\>\\> \\forall x \\in R_I(C\\cup\\{k\\}\\supseteq R_I$\n",
    "<br><br>\n",
    "Solving this for $d_k$ yields another knapsack problem:\n",
    "<br><br>\n",
    "$\\displaystyle d_k=|C|-1-max\\{\\sum_{i \\in C}x_i|\\sum_{i \\in C}a_i x_i \\leq \\beta - a_k, x\\in \\{0, 1\\}^C\\}$"
   ]
  },
  {
   "cell_type": "markdown",
   "id": "grand-salon",
   "metadata": {},
   "source": [
    "If we know an upper bound $\\bar c$ on the optimal objective value $c^*$ of the knapsack problem, <br>\n",
    "we can solve it in time $O(n\\bar c)$ using <b>Dynamic Programming</b>."
   ]
  },
  {
   "cell_type": "markdown",
   "id": "centered-orlando",
   "metadata": {},
   "source": [
    "To compute the optimum in the formulation of $d_k$ above, we can use $\\bar c := |C|-1 < n$."
   ]
  },
  {
   "cell_type": "markdown",
   "id": "surgical-brass",
   "metadata": {},
   "source": [
    "And we can find a minimal cover by solving another knapsack problem with $\\bar c = n$:\n",
    "<br><br>\n",
    "$\n",
    "\\begin{equation}\n",
    "    \\begin{array}{ll@{}ll}\n",
    "         & \\text{min}\\{1^Tx|a^Tx\\geq \\beta + 1, x \\in \\{0,1\\}^n\\} &\\\\\n",
    "       = & n - \\text{max}\\{1^Ty|a^Ty\\leq 1^Ta - \\beta - 1, y \\in \\{0,1\\}^n\\} &\\\\  \n",
    "    \\end{array}\n",
    "\\end{equation}\n",
    "$"
   ]
  },
  {
   "cell_type": "markdown",
   "id": "twenty-momentum",
   "metadata": {},
   "source": [
    "To sum up, we can use <b>Dynamic Programming</b> to obtain a completely lifted cover inequality in time $O(n^3)$."
   ]
  },
  {
   "cell_type": "code",
   "execution_count": null,
   "id": "quiet-benefit",
   "metadata": {},
   "outputs": [],
   "source": []
  }
 ],
 "metadata": {
  "kernelspec": {
   "display_name": "Python 3",
   "language": "python",
   "name": "python3"
  },
  "language_info": {
   "codemirror_mode": {
    "name": "ipython",
    "version": 3
   },
   "file_extension": ".py",
   "mimetype": "text/x-python",
   "name": "python",
   "nbconvert_exporter": "python",
   "pygments_lexer": "ipython3",
   "version": "3.7.10"
  }
 },
 "nbformat": 4,
 "nbformat_minor": 5
}
